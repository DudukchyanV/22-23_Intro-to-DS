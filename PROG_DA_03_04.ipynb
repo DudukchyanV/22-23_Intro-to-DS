{
 "cells": [
  {
   "cell_type": "markdown",
   "metadata": {},
   "source": [
    "# Анализ данных в Python\n",
    "\n",
    "# Генеральная совокупность и выборка. Описательные статистики. Z-оценки. Выбросы.\n",
    "\n",
    "<hr>\n",
    "\n",
    "*Автор: Анастасия Волкова*\n",
    "\n",
    "Приблизительное время самостоятельного изучения: **120** минут\n",
    "\n",
    "## Подготовка\n",
    "\n",
    "Для освоения данного материала предполагается, что уже просмотрены следующие разделы онлайн-курса\n",
    "\n",
    "*   Генеральная совокупность и выборка. Частотные таблицы и распределения\n",
    "*   Описательные статистики: меры центральной тенденции и разброса\n",
    "*   Z-оценка. Выбросы"
   ]
  },
  {
   "cell_type": "markdown",
   "metadata": {},
   "source": [
    "<h2>Содержание</h2>\n",
    "\n",
    "<div class=\"alert alert-block alert-info\" style=\"margin-top: 20px\">\n",
    "<ol>\n",
    "    <li><a>Генеральная совокупность и выборка</a>\n",
    "    <li><a>Частотные таблицы</a></li>\n",
    "    <li><a>Описательные статистики</a></li>\n",
    "    <li><a>Z-оценка</a></li>\n",
    "    <li><a>Выбросы</a></li>\n",
    "</ol>\n",
    "\n",
    "</div>\n",
    "<hr>"
   ]
  },
  {
   "cell_type": "markdown",
   "metadata": {},
   "source": [
    "<h2>Библиотеки и данные</h2>"
   ]
  },
  {
   "cell_type": "code",
   "execution_count": 6,
   "metadata": {},
   "outputs": [],
   "source": [
    "import numpy as np                 # числовые данные\n",
    "import pandas as pd                # таблицы\n",
    "\n",
    "import matplotlib.pyplot as plt    # графики\n",
    "import seaborn as sns              # продвинутые графики\n",
    "\n",
    "from scipy.stats import norm       # нормальное распределение\n",
    "from scipy import stats            # стандартизированная оценка\n",
    "\n",
    "import warnings                    # отключение уведомлений\n",
    "warnings.filterwarnings(\"ignore\")"
   ]
  },
  {
   "cell_type": "markdown",
   "metadata": {},
   "source": [
    "<h3> Данные по покупкам в Стамбуле </h3>\n",
    "\n",
    "*Источник: <a href=\"https://www.kaggle.com/datasets/mehmettahiraslan/customer-shopping-dataset\">**kaggle.com**</a>*\n",
    "\n",
    "* **Данные**: покупки в 10 торговых центрах Стамбула\n",
    "* **Единицы измерения**: TL, турецкие лиры\n",
    "* **Период**: 2021-2023\n",
    "\n",
    "**Переменные:**\n",
    "\n",
    "| Название       |      Формат       |    Значение     |\n",
    "| :------------  | :---------------  | :-------------- |\n",
    "| invoice_no     |    номинальная    |  уникальный код покупки |\n",
    "| customer_id    |    номинальная    |  уникальный номер покупателя |\n",
    "| gender         |    бинарная       | пол покупателя |\n",
    "| age            |    числовая       |   возраст покупателя |\n",
    "| category       |    номинальная    |   категория товаров |\n",
    "| quantity       |     числовая      |  количество товара |\n",
    "| price          |     числовая      |  цена одной единицы |\n",
    "| payment_method |     номинальная   | способ платежа |\n",
    "| invoice_date   |     номинальная   | способ платежа |\n",
    "| shopping_mall  |     номинальная   | название торгового центра |\n"
   ]
  },
  {
   "cell_type": "code",
   "execution_count": 12,
   "metadata": {},
   "outputs": [
    {
     "data": {
      "text/html": [
       "<div>\n",
       "<style scoped>\n",
       "    .dataframe tbody tr th:only-of-type {\n",
       "        vertical-align: middle;\n",
       "    }\n",
       "\n",
       "    .dataframe tbody tr th {\n",
       "        vertical-align: top;\n",
       "    }\n",
       "\n",
       "    .dataframe thead th {\n",
       "        text-align: right;\n",
       "    }\n",
       "</style>\n",
       "<table border=\"1\" class=\"dataframe\">\n",
       "  <thead>\n",
       "    <tr style=\"text-align: right;\">\n",
       "      <th></th>\n",
       "      <th>invoice_no</th>\n",
       "      <th>customer_id</th>\n",
       "      <th>gender</th>\n",
       "      <th>age</th>\n",
       "      <th>category</th>\n",
       "      <th>quantity</th>\n",
       "      <th>price</th>\n",
       "      <th>payment_method</th>\n",
       "      <th>invoice_date</th>\n",
       "      <th>shopping_mall</th>\n",
       "    </tr>\n",
       "  </thead>\n",
       "  <tbody>\n",
       "    <tr>\n",
       "      <th>0</th>\n",
       "      <td>I138884</td>\n",
       "      <td>C241288</td>\n",
       "      <td>Female</td>\n",
       "      <td>28</td>\n",
       "      <td>Clothing</td>\n",
       "      <td>5</td>\n",
       "      <td>1500.40</td>\n",
       "      <td>Credit Card</td>\n",
       "      <td>5/8/2022</td>\n",
       "      <td>Kanyon</td>\n",
       "    </tr>\n",
       "    <tr>\n",
       "      <th>1</th>\n",
       "      <td>I317333</td>\n",
       "      <td>C111565</td>\n",
       "      <td>Male</td>\n",
       "      <td>21</td>\n",
       "      <td>Shoes</td>\n",
       "      <td>3</td>\n",
       "      <td>1800.51</td>\n",
       "      <td>Debit Card</td>\n",
       "      <td>12/12/2021</td>\n",
       "      <td>Forum Istanbul</td>\n",
       "    </tr>\n",
       "    <tr>\n",
       "      <th>2</th>\n",
       "      <td>I127801</td>\n",
       "      <td>C266599</td>\n",
       "      <td>Male</td>\n",
       "      <td>20</td>\n",
       "      <td>Clothing</td>\n",
       "      <td>1</td>\n",
       "      <td>300.08</td>\n",
       "      <td>Cash</td>\n",
       "      <td>9/11/2021</td>\n",
       "      <td>Metrocity</td>\n",
       "    </tr>\n",
       "    <tr>\n",
       "      <th>3</th>\n",
       "      <td>I173702</td>\n",
       "      <td>C988172</td>\n",
       "      <td>Female</td>\n",
       "      <td>66</td>\n",
       "      <td>Shoes</td>\n",
       "      <td>5</td>\n",
       "      <td>3000.85</td>\n",
       "      <td>Credit Card</td>\n",
       "      <td>16/05/2021</td>\n",
       "      <td>Metropol AVM</td>\n",
       "    </tr>\n",
       "    <tr>\n",
       "      <th>4</th>\n",
       "      <td>I337046</td>\n",
       "      <td>C189076</td>\n",
       "      <td>Female</td>\n",
       "      <td>53</td>\n",
       "      <td>Books</td>\n",
       "      <td>4</td>\n",
       "      <td>60.60</td>\n",
       "      <td>Cash</td>\n",
       "      <td>24/10/2021</td>\n",
       "      <td>Kanyon</td>\n",
       "    </tr>\n",
       "  </tbody>\n",
       "</table>\n",
       "</div>"
      ],
      "text/plain": [
       "  invoice_no customer_id  gender  age  category  quantity    price  \\\n",
       "0    I138884     C241288  Female   28  Clothing         5  1500.40   \n",
       "1    I317333     C111565    Male   21     Shoes         3  1800.51   \n",
       "2    I127801     C266599    Male   20  Clothing         1   300.08   \n",
       "3    I173702     C988172  Female   66     Shoes         5  3000.85   \n",
       "4    I337046     C189076  Female   53     Books         4    60.60   \n",
       "\n",
       "  payment_method invoice_date   shopping_mall  \n",
       "0    Credit Card     5/8/2022          Kanyon  \n",
       "1     Debit Card   12/12/2021  Forum Istanbul  \n",
       "2           Cash    9/11/2021       Metrocity  \n",
       "3    Credit Card   16/05/2021    Metropol AVM  \n",
       "4           Cash   24/10/2021          Kanyon  "
      ]
     },
     "execution_count": 12,
     "metadata": {},
     "output_type": "execute_result"
    }
   ],
   "source": [
    "# загружаем датасет и проверяем адекватность таблицы\n",
    "\n",
    "df_original = pd.read_csv('customer_shopping_data.csv')\n",
    "df_original.head()\n",
    "\n",
    "# ссылка на данные https://raw.githubusercontent.com/aaparshina/22-23_Intro-to-DS/main/DATA/customer_shopping_data.csv"
   ]
  },
  {
   "cell_type": "code",
   "execution_count": 15,
   "metadata": {},
   "outputs": [],
   "source": [
    "# делаем копию и далее работаем только с ней\n",
    "\n",
    "df = df_original.copy()"
   ]
  },
  {
   "cell_type": "code",
   "execution_count": 16,
   "metadata": {},
   "outputs": [
    {
     "name": "stdout",
     "output_type": "stream",
     "text": [
      "<class 'pandas.core.frame.DataFrame'>\n",
      "RangeIndex: 99457 entries, 0 to 99456\n",
      "Data columns (total 10 columns):\n",
      " #   Column          Non-Null Count  Dtype  \n",
      "---  ------          --------------  -----  \n",
      " 0   invoice_no      99457 non-null  object \n",
      " 1   customer_id     99457 non-null  object \n",
      " 2   gender          99457 non-null  object \n",
      " 3   age             99457 non-null  int64  \n",
      " 4   category        99457 non-null  object \n",
      " 5   quantity        99457 non-null  int64  \n",
      " 6   price           99457 non-null  float64\n",
      " 7   payment_method  99457 non-null  object \n",
      " 8   invoice_date    99457 non-null  object \n",
      " 9   shopping_mall   99457 non-null  object \n",
      "dtypes: float64(1), int64(2), object(7)\n",
      "memory usage: 7.6+ MB\n"
     ]
    }
   ],
   "source": [
    "# пропусков нет\n",
    "\n",
    "df.info()"
   ]
  },
  {
   "cell_type": "code",
   "execution_count": 17,
   "metadata": {},
   "outputs": [],
   "source": [
    "# удалим переменные с уникальными кодами покупки/покупателя\n",
    "# для агрегированного анализа они не несут ценности\n",
    "\n",
    "df.drop(['invoice_no', 'customer_id'], axis = 1, inplace = True)"
   ]
  },
  {
   "cell_type": "markdown",
   "metadata": {},
   "source": [
    "<h2>Первичный анализ данных</h2>\n",
    "\n",
    "<div class=\"alert alert-block alert-info\" style=\"margin-top: 20px\">\n",
    "    \n",
    "Представим, что **задача аналитика** изучить особенности потребления различных товаров в Стамбуле.\n",
    "    \n",
    "Что в данном случае будет являться **генеральной совокупностью**, а что **выборкой**?\n",
    "</div>\n",
    "\n"
   ]
  },
  {
   "cell_type": "markdown",
   "metadata": {},
   "source": [
    "<hr> \n",
    "\n",
    "*Вспомним определения из онлайн-курса:*\n",
    "\n",
    "**Генеральная совокупность** — это совокупность всех объектов, которые представляют интерес в конкретном исследовании.\n",
    "\n",
    "**Выборка** — это группа объектов, отобранных из генеральной совокупности для исследования.\n",
    "\n",
    "**Репрезентативность** — соответствие характеристик выборки характеристикам генеральной совокупности.\n",
    "\n",
    "<hr>"
   ]
  },
  {
   "cell_type": "markdown",
   "metadata": {},
   "source": [
    "<div class=\"alert alert-block alert-info\" style=\"margin-top: 5px\">\n",
    "    \n",
    "Можно ли считать данную выборку **репрезентативной**?\n",
    "    \n",
    "</div>\n"
   ]
  },
  {
   "cell_type": "markdown",
   "metadata": {},
   "source": [
    "1. Данные о скольких покупках доступны в выборке?\n",
    "\n",
    "<code>dataframe.shape</code> - (кол-во строк, кол-во столбцов)\n"
   ]
  },
  {
   "cell_type": "code",
   "execution_count": 18,
   "metadata": {},
   "outputs": [
    {
     "data": {
      "text/plain": [
       "99457"
      ]
     },
     "execution_count": 18,
     "metadata": {},
     "output_type": "execute_result"
    }
   ],
   "source": [
    "df.shape[0]"
   ]
  },
  {
   "cell_type": "markdown",
   "metadata": {},
   "source": [
    "**Почти 100 тысяч покупок. Много или мало?**\n",
    "\n",
    "Учитывая, что население Стамбула более 15 млн жителей, не считая туристов, это, конечно, не много за 2 года.\n",
    "\n",
    "Однако важно не только это.\n",
    "\n",
    "2. Нужно посмотреть где были сделаны эти покупки.\n",
    "\n",
    "Если в одном магазине, то это позволит сделать выводы только для аудитории данного магазина.\n",
    "\n",
    "<code>dataframe['column_name'].unique()</code> - метод получения уникальных записей"
   ]
  },
  {
   "cell_type": "code",
   "execution_count": 19,
   "metadata": {},
   "outputs": [
    {
     "data": {
      "text/plain": [
       "array(['Kanyon', 'Forum Istanbul', 'Metrocity', 'Metropol AVM',\n",
       "       'Istinye Park', 'Mall of Istanbul', 'Emaar Square Mall',\n",
       "       'Cevahir AVM', 'Viaport Outlet', 'Zorlu Center'], dtype=object)"
      ]
     },
     "execution_count": 19,
     "metadata": {},
     "output_type": "execute_result"
    }
   ],
   "source": [
    "# список уникальных торговых центров, присутствующих в выборке\n",
    "\n",
    "df['shopping_mall'].unique()"
   ]
  },
  {
   "cell_type": "markdown",
   "metadata": {},
   "source": [
    "<code>dataframe['column_name'].value_counts()</code> - количество повторений уникальных записей"
   ]
  },
  {
   "cell_type": "code",
   "execution_count": 20,
   "metadata": {},
   "outputs": [
    {
     "data": {
      "text/plain": [
       "Mall of Istanbul     19943\n",
       "Kanyon               19823\n",
       "Metrocity            15011\n",
       "Metropol AVM         10161\n",
       "Istinye Park          9781\n",
       "Zorlu Center          5075\n",
       "Cevahir AVM           4991\n",
       "Forum Istanbul        4947\n",
       "Viaport Outlet        4914\n",
       "Emaar Square Mall     4811\n",
       "Name: shopping_mall, dtype: int64"
      ]
     },
     "execution_count": 20,
     "metadata": {},
     "output_type": "execute_result"
    }
   ],
   "source": [
    "# равномерность распределения покупок по торговым центрам\n",
    "\n",
    "df['shopping_mall'].value_counts()"
   ]
  },
  {
   "cell_type": "markdown",
   "metadata": {},
   "source": [
    "**10 достаточно больших торговых центров - вполне репрезентативно.**\n",
    "\n",
    "3. Теперь нужно оценить половозрастной состав покупателей."
   ]
  },
  {
   "cell_type": "code",
   "execution_count": 21,
   "metadata": {},
   "outputs": [
    {
     "data": {
      "text/plain": [
       "Female    59482\n",
       "Male      39975\n",
       "Name: gender, dtype: int64"
      ]
     },
     "execution_count": 21,
     "metadata": {},
     "output_type": "execute_result"
    }
   ],
   "source": [
    "# соотношение покупателей мужчин и женщин\n",
    "\n",
    "df.gender.value_counts()"
   ]
  },
  {
   "cell_type": "markdown",
   "metadata": {},
   "source": [
    "На первый взгляд вполне репрезентативно, но можно посчитать и процентное соотношение."
   ]
  },
  {
   "cell_type": "code",
   "execution_count": 22,
   "metadata": {},
   "outputs": [],
   "source": [
    "# YOUR CODE"
   ]
  },
  {
   "cell_type": "markdown",
   "metadata": {},
   "source": [
    "Теперь посмотрим на **возраст покупателей**"
   ]
  },
  {
   "cell_type": "code",
   "execution_count": 23,
   "metadata": {},
   "outputs": [
    {
     "data": {
      "image/png": "[encoded data removed]",
      "text/plain": [
       "<Figure size 504.125x432 with 2 Axes>"
      ]
     },
     "metadata": {
      "needs_background": "light"
     },
     "output_type": "display_data"
    }
   ],
   "source": [
    "# учиться рисовать графики будем на следующих семинарах\n",
    "# пока просто смотрим и анализируем\n",
    "\n",
    "pal = dict(Male = '#6495ED',\n",
    "         Female = '#F08080')\n",
    "\n",
    "g = sns.FacetGrid(df, row=\"gender\", hue=\"gender\", aspect=2.0, palette=pal)\n",
    "\n",
    "g.map(sns.kdeplot, \"age\", shade=True)\n",
    "g.set(xlim=(0, 80), ylim=0)\n",
    "g.add_legend();"
   ]
  },
  {
   "cell_type": "markdown",
   "metadata": {},
   "source": [
    "Можно сказать, что выборка репрезентативна, так как распределение возраста покупателей выглядит равномерным.\n",
    "\n",
    "Потренируемся в создании категорий \n",
    "\n",
    "**Binning**\n",
    "\n",
    "Поделим покупателей на **3 группы по возрасту**: молодые, зрелые, пожилые.\n",
    "\n",
    "Границы выберем произвольно.\n",
    "Далее можно самостоятельно поэкспериментировать.\n",
    "\n",
    "<code>np.linspace(start_value, end_value, numbers_generated)</code> - определяем шкалу как по линейке\n",
    "\n",
    "<code>pd.cut(dataframe['column_name'], bins) </code> - распределяем данные по категориям"
   ]
  },
  {
   "cell_type": "code",
   "execution_count": 24,
   "metadata": {},
   "outputs": [
    {
     "data": {
      "text/plain": [
       "Young    34418\n",
       "Adult    32876\n",
       "Old      32163\n",
       "Name: age_category, dtype: int64"
      ]
     },
     "execution_count": 24,
     "metadata": {},
     "output_type": "execute_result"
    }
   ],
   "source": [
    "# список категорий\n",
    "group_names = ['Young', 'Adult', 'Old']\n",
    "\n",
    "# определим равномерные границы\n",
    "bins = np.linspace(min(df['age']), max(df['age']), 4)\n",
    "\n",
    "# создаем новую переменную age_category\n",
    "df['age_category'] = pd.cut(df['age'], bins, labels=group_names, include_lowest=True)\n",
    "\n",
    "# смотрим на баланс новых категорий\n",
    "df['age_category'].value_counts()"
   ]
  },
  {
   "cell_type": "markdown",
   "metadata": {},
   "source": [
    "**Примерно равное соотношение. Этого и стоило ожидать, исходя из распределения выше.**"
   ]
  },
  {
   "cell_type": "markdown",
   "metadata": {},
   "source": [
    "<div class=\"alert alert-block alert-info\" style=\"margin-top: 20px\">\n",
    "Чтобы не сравнивать на глаз, каким образом можно формально описать (прокомментировать) имеющиеся данные?\n",
    "    \n",
    "Для этого воспользуемся стандартными **описательными статистиками**.\n",
    "</div>"
   ]
  },
  {
   "cell_type": "markdown",
   "metadata": {},
   "source": [
    "<h2>Описательные статистики</h2>\n",
    "\n",
    "<hr> \n",
    "\n",
    "*Вспомним оcновные теоретические моменты:*\n",
    "\n",
    "**Среднее значение**\n",
    "\n",
    "Среднее не нуждается в представлении. \n",
    "Вычислить его довольно просто: сложите все значения определенного признака и разделите полученную сумму на их количество:\n",
    "\n",
    "$$\n",
    "\\bar {x} =  \\frac {1}{n} \\sum _{i=1}^{n}x_{i}\n",
    "$$\n",
    "\n",
    "Среднее значение отражает типичный показатель в наборе данных: \n",
    "если мы случайно выберем любое значение признака, то, *скорее всего*, получим значение, близкое к среднему."
   ]
  },
  {
   "cell_type": "markdown",
   "metadata": {},
   "source": [
    "<code>dataframe['column_name'].mean()</code> - вычисление среднего"
   ]
  },
  {
   "cell_type": "code",
   "execution_count": 25,
   "metadata": {},
   "outputs": [
    {
     "data": {
      "text/plain": [
       "43.42708909377922"
      ]
     },
     "execution_count": 25,
     "metadata": {},
     "output_type": "execute_result"
    }
   ],
   "source": [
    "# средний возраст типичного покупателя\n",
    "\n",
    "df['age'].mean()"
   ]
  },
  {
   "cell_type": "markdown",
   "metadata": {},
   "source": [
    "<code>round(value_to_round, n_of_digits)</code> - округление до точного кол-ва знаков после запятой"
   ]
  },
  {
   "cell_type": "code",
   "execution_count": 26,
   "metadata": {},
   "outputs": [
    {
     "data": {
      "text/plain": [
       "43.0"
      ]
     },
     "execution_count": 26,
     "metadata": {},
     "output_type": "execute_result"
    }
   ],
   "source": [
    "# для красоты можно округлить\n",
    "round(df['age'].mean(),0)"
   ]
  },
  {
   "cell_type": "markdown",
   "metadata": {},
   "source": [
    "Cреднее для мужчин и женщин по отдельности практически совпадает.\n",
    "\n",
    "<code>dataframe.groupby('column_to_group')['column_name'].mean()</code> "
   ]
  },
  {
   "cell_type": "code",
   "execution_count": 27,
   "metadata": {},
   "outputs": [
    {
     "data": {
      "text/plain": [
       "gender\n",
       "Female    43.453515\n",
       "Male      43.387767\n",
       "Name: age, dtype: float64"
      ]
     },
     "execution_count": 27,
     "metadata": {},
     "output_type": "execute_result"
    }
   ],
   "source": [
    "df.groupby('gender')['age'].mean()"
   ]
  },
  {
   "cell_type": "markdown",
   "metadata": {},
   "source": [
    "**Однако не всегда разумно вычислять именно среднее значение для получения адекватной картины.**\n",
    "\n",
    "Это как вычислять среднюю температуру по больнице.\n",
    "\n",
    "Жонглированием статистикой можно доказать самые разнообразные утверждения — важно лишь понимать цель использования. Часто в распределение включаются самые разнородные элементы, вычисление «среднего» по которым теряет всякий смысл. \n",
    "В таких случаях следует проводить кластеризацию — разбиение распределения на более-менее однородные по параметру усреднения группы.\n",
    "\n",
    "Например, посчитаем среднюю цену покупки из выборки."
   ]
  },
  {
   "cell_type": "code",
   "execution_count": 35,
   "metadata": {},
   "outputs": [
    {
     "data": {
      "text/plain": [
       "841.9674946101024"
      ]
     },
     "execution_count": 35,
     "metadata": {},
     "output_type": "execute_result"
    }
   ],
   "source": [
    "np.repeat(df['price'], df['quantity']).mean()"
   ]
  },
  {
   "cell_type": "markdown",
   "metadata": {},
   "source": [
    "Теперь посмотрим на распределение данной переменной.\n",
    "\n",
    "По оси Х - цена товара, Y - кол-во покупок по данной цене.\n",
    "\n",
    "Функция `repeat()` из модуля `numpy` работает в данном случае так: `np.repeat(что повторить, сколько раз повторить)`"
   ]
  },
  {
   "cell_type": "code",
   "execution_count": 32,
   "metadata": {},
   "outputs": [
    {
     "data": {
      "text/plain": [
       "<AxesSubplot:xlabel='price', ylabel='Count'>"
      ]
     },
     "execution_count": 32,
     "metadata": {},
     "output_type": "execute_result"
    },
    {
     "data": {
      "image/png": "[encoded data removed]",
      "text/plain": [
       "<Figure size 1224x360 with 1 Axes>"
      ]
     },
     "metadata": {
      "needs_background": "light"
     },
     "output_type": "display_data"
    }
   ],
   "source": [
    "plt.figure(figsize=(17,5))\n",
    "sns.histplot(data=np.repeat(df['price'], df['quantity']))"
   ]
  },
  {
   "cell_type": "markdown",
   "metadata": {},
   "source": [
    "В данном случае видим, что большинство товаров стоят менее 400 лир, поэтому среднее в 841 здесь явно нерепрезентативно.\n",
    "\n",
    "Попробуем рассчитать медиану."
   ]
  },
  {
   "cell_type": "markdown",
   "metadata": {},
   "source": [
    "**Медиана**\n",
    "\n",
    "Чтобы найти медиану, данные нужно расположить в порядке возрастания. Медианой будет значение, которое совпадает с серединой набора данных. Если количество значений чётное, то берётся среднее двух значений, которые «окружают» середину."
   ]
  },
  {
   "cell_type": "code",
   "execution_count": 39,
   "metadata": {},
   "outputs": [
    {
     "data": {
      "text/plain": [
       "203.3"
      ]
     },
     "execution_count": 39,
     "metadata": {},
     "output_type": "execute_result"
    }
   ],
   "source": [
    "np.repeat(df['price'], df['quantity']).median()"
   ]
  },
  {
   "cell_type": "markdown",
   "metadata": {},
   "source": [
    "**Данное значение можно считать более репрезентативным.**\n",
    "\n",
    "Для описания несимметрично распределенных величин чаще используется медиана.\n",
    "\n",
    "Разницу можно проиллюстрировать примером с распределением доходов населения.\n",
    "\n",
    "<a href=\"https://pikabu.ru/story/o_raspredelenii_dokhodov_rossiyan_5289242\">*Пример*</a>\n"
   ]
  },
  {
   "cell_type": "markdown",
   "metadata": {},
   "source": [
    "Изобразим наглядно на графике различие между средним и медианой.\n",
    "\n",
    "**Запомним простое правило!**\n",
    "\n",
    "*В какую сторону смещено распределение (где площадь больше) -\n",
    "в ту же сторону смещается медиана относительно среднего.*"
   ]
  },
  {
   "cell_type": "code",
   "execution_count": 37,
   "metadata": {},
   "outputs": [
    {
     "data": {
      "image/png": "[encoded data removed]",
      "text/plain": [
       "<Figure size 1224x360 with 1 Axes>"
      ]
     },
     "metadata": {
      "needs_background": "light"
     },
     "output_type": "display_data"
    }
   ],
   "source": [
    "plt.figure(figsize=(17,5))\n",
    "plt.hist(np.repeat(df['price'], df['quantity']), bins=30)\n",
    "plt.title('Распределение цен на товары')\n",
    "plt.xlabel('Цена, TL')\n",
    "\n",
    "mean = np.repeat(df['price'], df['quantity']).mean() \n",
    "median = np.repeat(df['price'], df['quantity']).median()  \n",
    "\n",
    "plt.axvline(mean, linestyle='--', color='#F08080', label='Среднее')\n",
    "plt.axvline(median, linestyle='--', color='#6495ED', label='Медиана')\n",
    "\n",
    "plt.legend(loc='best')\n",
    "plt.show()"
   ]
  },
  {
   "cell_type": "markdown",
   "metadata": {},
   "source": [
    "В случае с идеально симметричными распределениями - среднее и медиана совпадают!"
   ]
  },
  {
   "cell_type": "markdown",
   "metadata": {},
   "source": [
    "**Мода**\n",
    "\n",
    "Это значение переменной с самой большой частотой, т.е. самое популярное значение переменной."
   ]
  },
  {
   "cell_type": "code",
   "execution_count": 41,
   "metadata": {},
   "outputs": [
    {
     "data": {
      "text/plain": [
       "0    1500.4\n",
       "Name: price, dtype: float64"
      ]
     },
     "execution_count": 41,
     "metadata": {},
     "output_type": "execute_result"
    }
   ],
   "source": [
    "# самая популярная цена товара\n",
    "np.repeat(df['price'], df['quantity']).mode()"
   ]
  },
  {
   "cell_type": "code",
   "execution_count": 42,
   "metadata": {},
   "outputs": [
    {
     "data": {
      "text/plain": [
       "0    37\n",
       "Name: age, dtype: int64"
      ]
     },
     "execution_count": 42,
     "metadata": {},
     "output_type": "execute_result"
    }
   ],
   "source": [
    "# самый популярный возраст покупателя\n",
    "df['age'].mode()"
   ]
  },
  {
   "cell_type": "markdown",
   "metadata": {},
   "source": [
    "Для переменной цены эта мера не особо полезна, так как цена - величина непрерывная, и самое популярное значение практически ни о чем не говорит.\n",
    "\n",
    "Однако мода - **единственная возможная** описательная статистика для **номинальных** переменных!\n",
    "\n",
    "Например, найдем самую популярную категорию товаров  *(это одежда)*"
   ]
  },
  {
   "cell_type": "code",
   "execution_count": 43,
   "metadata": {},
   "outputs": [
    {
     "data": {
      "text/plain": [
       "0    Clothing\n",
       "Name: category, dtype: object"
      ]
     },
     "execution_count": 43,
     "metadata": {},
     "output_type": "execute_result"
    }
   ],
   "source": [
    "df['category'].mode()"
   ]
  },
  {
   "cell_type": "markdown",
   "metadata": {},
   "source": [
    "Описательная таблица для номинальных переменных (кол-во всех/уникальных элементов + самый популярный) "
   ]
  },
  {
   "cell_type": "code",
   "execution_count": 44,
   "metadata": {},
   "outputs": [
    {
     "data": {
      "text/html": [
       "<div>\n",
       "<style scoped>\n",
       "    .dataframe tbody tr th:only-of-type {\n",
       "        vertical-align: middle;\n",
       "    }\n",
       "\n",
       "    .dataframe tbody tr th {\n",
       "        vertical-align: top;\n",
       "    }\n",
       "\n",
       "    .dataframe thead th {\n",
       "        text-align: right;\n",
       "    }\n",
       "</style>\n",
       "<table border=\"1\" class=\"dataframe\">\n",
       "  <thead>\n",
       "    <tr style=\"text-align: right;\">\n",
       "      <th></th>\n",
       "      <th>gender</th>\n",
       "      <th>category</th>\n",
       "      <th>payment_method</th>\n",
       "      <th>invoice_date</th>\n",
       "      <th>shopping_mall</th>\n",
       "    </tr>\n",
       "  </thead>\n",
       "  <tbody>\n",
       "    <tr>\n",
       "      <th>count</th>\n",
       "      <td>99457</td>\n",
       "      <td>99457</td>\n",
       "      <td>99457</td>\n",
       "      <td>99457</td>\n",
       "      <td>99457</td>\n",
       "    </tr>\n",
       "    <tr>\n",
       "      <th>unique</th>\n",
       "      <td>2</td>\n",
       "      <td>8</td>\n",
       "      <td>3</td>\n",
       "      <td>797</td>\n",
       "      <td>10</td>\n",
       "    </tr>\n",
       "    <tr>\n",
       "      <th>top</th>\n",
       "      <td>Female</td>\n",
       "      <td>Clothing</td>\n",
       "      <td>Cash</td>\n",
       "      <td>24/11/2021</td>\n",
       "      <td>Mall of Istanbul</td>\n",
       "    </tr>\n",
       "    <tr>\n",
       "      <th>freq</th>\n",
       "      <td>59482</td>\n",
       "      <td>34487</td>\n",
       "      <td>44447</td>\n",
       "      <td>159</td>\n",
       "      <td>19943</td>\n",
       "    </tr>\n",
       "  </tbody>\n",
       "</table>\n",
       "</div>"
      ],
      "text/plain": [
       "        gender  category payment_method invoice_date     shopping_mall\n",
       "count    99457     99457          99457        99457             99457\n",
       "unique       2         8              3          797                10\n",
       "top     Female  Clothing           Cash   24/11/2021  Mall of Istanbul\n",
       "freq     59482     34487          44447          159             19943"
      ]
     },
     "execution_count": 44,
     "metadata": {},
     "output_type": "execute_result"
    }
   ],
   "source": [
    "df.describe(include = 'object')"
   ]
  },
  {
   "cell_type": "markdown",
   "metadata": {},
   "source": [
    "Общая описательная таблица"
   ]
  },
  {
   "cell_type": "code",
   "execution_count": 45,
   "metadata": {},
   "outputs": [
    {
     "data": {
      "text/html": [
       "<div>\n",
       "<style scoped>\n",
       "    .dataframe tbody tr th:only-of-type {\n",
       "        vertical-align: middle;\n",
       "    }\n",
       "\n",
       "    .dataframe tbody tr th {\n",
       "        vertical-align: top;\n",
       "    }\n",
       "\n",
       "    .dataframe thead th {\n",
       "        text-align: right;\n",
       "    }\n",
       "</style>\n",
       "<table border=\"1\" class=\"dataframe\">\n",
       "  <thead>\n",
       "    <tr style=\"text-align: right;\">\n",
       "      <th></th>\n",
       "      <th>gender</th>\n",
       "      <th>age</th>\n",
       "      <th>category</th>\n",
       "      <th>quantity</th>\n",
       "      <th>price</th>\n",
       "      <th>payment_method</th>\n",
       "      <th>invoice_date</th>\n",
       "      <th>shopping_mall</th>\n",
       "      <th>age_category</th>\n",
       "    </tr>\n",
       "  </thead>\n",
       "  <tbody>\n",
       "    <tr>\n",
       "      <th>count</th>\n",
       "      <td>99457</td>\n",
       "      <td>99457.000000</td>\n",
       "      <td>99457</td>\n",
       "      <td>99457.000000</td>\n",
       "      <td>99457.000000</td>\n",
       "      <td>99457</td>\n",
       "      <td>99457</td>\n",
       "      <td>99457</td>\n",
       "      <td>99457</td>\n",
       "    </tr>\n",
       "    <tr>\n",
       "      <th>unique</th>\n",
       "      <td>2</td>\n",
       "      <td>NaN</td>\n",
       "      <td>8</td>\n",
       "      <td>NaN</td>\n",
       "      <td>NaN</td>\n",
       "      <td>3</td>\n",
       "      <td>797</td>\n",
       "      <td>10</td>\n",
       "      <td>3</td>\n",
       "    </tr>\n",
       "    <tr>\n",
       "      <th>top</th>\n",
       "      <td>Female</td>\n",
       "      <td>NaN</td>\n",
       "      <td>Clothing</td>\n",
       "      <td>NaN</td>\n",
       "      <td>NaN</td>\n",
       "      <td>Cash</td>\n",
       "      <td>24/11/2021</td>\n",
       "      <td>Mall of Istanbul</td>\n",
       "      <td>Young</td>\n",
       "    </tr>\n",
       "    <tr>\n",
       "      <th>freq</th>\n",
       "      <td>59482</td>\n",
       "      <td>NaN</td>\n",
       "      <td>34487</td>\n",
       "      <td>NaN</td>\n",
       "      <td>NaN</td>\n",
       "      <td>44447</td>\n",
       "      <td>159</td>\n",
       "      <td>19943</td>\n",
       "      <td>34418</td>\n",
       "    </tr>\n",
       "    <tr>\n",
       "      <th>mean</th>\n",
       "      <td>NaN</td>\n",
       "      <td>43.427089</td>\n",
       "      <td>NaN</td>\n",
       "      <td>3.003429</td>\n",
       "      <td>689.256321</td>\n",
       "      <td>NaN</td>\n",
       "      <td>NaN</td>\n",
       "      <td>NaN</td>\n",
       "      <td>NaN</td>\n",
       "    </tr>\n",
       "    <tr>\n",
       "      <th>std</th>\n",
       "      <td>NaN</td>\n",
       "      <td>14.990054</td>\n",
       "      <td>NaN</td>\n",
       "      <td>1.413025</td>\n",
       "      <td>941.184567</td>\n",
       "      <td>NaN</td>\n",
       "      <td>NaN</td>\n",
       "      <td>NaN</td>\n",
       "      <td>NaN</td>\n",
       "    </tr>\n",
       "    <tr>\n",
       "      <th>min</th>\n",
       "      <td>NaN</td>\n",
       "      <td>18.000000</td>\n",
       "      <td>NaN</td>\n",
       "      <td>1.000000</td>\n",
       "      <td>5.230000</td>\n",
       "      <td>NaN</td>\n",
       "      <td>NaN</td>\n",
       "      <td>NaN</td>\n",
       "      <td>NaN</td>\n",
       "    </tr>\n",
       "    <tr>\n",
       "      <th>25%</th>\n",
       "      <td>NaN</td>\n",
       "      <td>30.000000</td>\n",
       "      <td>NaN</td>\n",
       "      <td>2.000000</td>\n",
       "      <td>45.450000</td>\n",
       "      <td>NaN</td>\n",
       "      <td>NaN</td>\n",
       "      <td>NaN</td>\n",
       "      <td>NaN</td>\n",
       "    </tr>\n",
       "    <tr>\n",
       "      <th>50%</th>\n",
       "      <td>NaN</td>\n",
       "      <td>43.000000</td>\n",
       "      <td>NaN</td>\n",
       "      <td>3.000000</td>\n",
       "      <td>203.300000</td>\n",
       "      <td>NaN</td>\n",
       "      <td>NaN</td>\n",
       "      <td>NaN</td>\n",
       "      <td>NaN</td>\n",
       "    </tr>\n",
       "    <tr>\n",
       "      <th>75%</th>\n",
       "      <td>NaN</td>\n",
       "      <td>56.000000</td>\n",
       "      <td>NaN</td>\n",
       "      <td>4.000000</td>\n",
       "      <td>1200.320000</td>\n",
       "      <td>NaN</td>\n",
       "      <td>NaN</td>\n",
       "      <td>NaN</td>\n",
       "      <td>NaN</td>\n",
       "    </tr>\n",
       "    <tr>\n",
       "      <th>max</th>\n",
       "      <td>NaN</td>\n",
       "      <td>69.000000</td>\n",
       "      <td>NaN</td>\n",
       "      <td>5.000000</td>\n",
       "      <td>5250.000000</td>\n",
       "      <td>NaN</td>\n",
       "      <td>NaN</td>\n",
       "      <td>NaN</td>\n",
       "      <td>NaN</td>\n",
       "    </tr>\n",
       "  </tbody>\n",
       "</table>\n",
       "</div>"
      ],
      "text/plain": [
       "        gender           age  category      quantity         price  \\\n",
       "count    99457  99457.000000     99457  99457.000000  99457.000000   \n",
       "unique       2           NaN         8           NaN           NaN   \n",
       "top     Female           NaN  Clothing           NaN           NaN   \n",
       "freq     59482           NaN     34487           NaN           NaN   \n",
       "mean       NaN     43.427089       NaN      3.003429    689.256321   \n",
       "std        NaN     14.990054       NaN      1.413025    941.184567   \n",
       "min        NaN     18.000000       NaN      1.000000      5.230000   \n",
       "25%        NaN     30.000000       NaN      2.000000     45.450000   \n",
       "50%        NaN     43.000000       NaN      3.000000    203.300000   \n",
       "75%        NaN     56.000000       NaN      4.000000   1200.320000   \n",
       "max        NaN     69.000000       NaN      5.000000   5250.000000   \n",
       "\n",
       "       payment_method invoice_date     shopping_mall age_category  \n",
       "count           99457        99457             99457        99457  \n",
       "unique              3          797                10            3  \n",
       "top              Cash   24/11/2021  Mall of Istanbul        Young  \n",
       "freq            44447          159             19943        34418  \n",
       "mean              NaN          NaN               NaN          NaN  \n",
       "std               NaN          NaN               NaN          NaN  \n",
       "min               NaN          NaN               NaN          NaN  \n",
       "25%               NaN          NaN               NaN          NaN  \n",
       "50%               NaN          NaN               NaN          NaN  \n",
       "75%               NaN          NaN               NaN          NaN  \n",
       "max               NaN          NaN               NaN          NaN  "
      ]
     },
     "execution_count": 45,
     "metadata": {},
     "output_type": "execute_result"
    }
   ],
   "source": [
    "df.describe(include = 'all')"
   ]
  },
  {
   "cell_type": "markdown",
   "metadata": {},
   "source": [
    "<hr> \n",
    "\n",
    "*Существуют некоторые закономерности:*\n",
    "\n",
    "* В симметричном распределении с одной модой (унимодальном) все три меры будут более-менее совпадать.\n",
    "* В симметричном распределении с более чем одной модой, медиана и среднее будут более-менее совпадать.\n",
    "* Для положительно ассиметричного унимодального распределения (скошенного вправо) мода меньше медианы, а медиана меньше среднего.\n",
    "* Для отрицательно ассиметричного унимодального распределения (скошенного влево) - наоборот.\n",
    "\n",
    "<hr> "
   ]
  },
  {
   "cell_type": "markdown",
   "metadata": {},
   "source": [
    "**Теперь про квантили**"
   ]
  },
  {
   "cell_type": "markdown",
   "metadata": {},
   "source": [
    "**Квантиль** - значение, которое заданная случайная величина не превышает с фиксированной вероятностью. \n",
    "\n",
    "Если вероятность задана в процентах, то квантиль называется процентилем или перцентилем.\n",
    "\n",
    "*Например, фраза «для развитых стран 99-процентиль продолжительности жизни составляет 100 лет» означает, что ожидается, что 99% людей проживут не более 100 лет.*\n",
    "\n",
    "**Квартили**  — это квантили, кратные 25%, то есть соответствующие 25%, 50% и 75% *(Q1, Q2 и Q3), (нижний, средний, верхний)* .\n",
    "\n",
    "**Межквартильный размах (IQR)** — это разница между 1-м и 3-м квартилями, т.е. между 25-м и 75-м процентилями. \n",
    "В него входят центральные 50% наблюдений в упорядоченном наборе, где 25% наблюдений находятся ниже центральной точки и 25% — выше.\n",
    "\n",
    "**Выбросы (outliers)** — экстремально маленькие или большие значения в выборке. \n",
    "Они могут достаточно сильно искажать картину при расчете описательных статистик и построении моделей, поэтому нужно чистить выборку от выбросов (удалять подобные наблюдения).\n",
    "\n",
    "*Один из критериев экстремальности* - все, что не попадает в диапазон *(Q1 - 1.5 IQR, Q3 + 1.5 IQR)*"
   ]
  },
  {
   "cell_type": "markdown",
   "metadata": {},
   "source": [
    "<center>\n",
    "<img src=\"https://github.com/aaparshina/22-23_Intro-to-DS/blob/main/PICS/quartiles-and-outliers.png?raw=true\" width=\"600\" height=\"400\">\n",
    "</center>"
   ]
  },
  {
   "cell_type": "markdown",
   "metadata": {},
   "source": [
    "*Источник картинки, а также наглядный пример расчета*\n",
    "<a href=\"https://www.math.net/interquartile-range\">*здесь*</a>"
   ]
  },
  {
   "cell_type": "code",
   "execution_count": 46,
   "metadata": {},
   "outputs": [
    {
     "data": {
      "text/plain": [
       "26.0"
      ]
     },
     "execution_count": 46,
     "metadata": {},
     "output_type": "execute_result"
    }
   ],
   "source": [
    "# пример вычисления межквартильного размаха (IQR) для переменной возраста\n",
    "\n",
    "iqr = df['age'].quantile(0.75) - df['age'].quantile(0.25)\n",
    "iqr"
   ]
  },
  {
   "cell_type": "code",
   "execution_count": 47,
   "metadata": {},
   "outputs": [
    {
     "data": {
      "text/plain": [
       "True"
      ]
     },
     "execution_count": 47,
     "metadata": {},
     "output_type": "execute_result"
    }
   ],
   "source": [
    "# кажется, что медиана и квантиль 50% - это одно и то же\n",
    "\n",
    "df['age'].quantile(0.5) == df['age'].median()"
   ]
  },
  {
   "cell_type": "markdown",
   "metadata": {},
   "source": [
    "Найдем выбросы по переменной цены товара"
   ]
  },
  {
   "cell_type": "code",
   "execution_count": 48,
   "metadata": {},
   "outputs": [
    {
     "name": "stdout",
     "output_type": "stream",
     "text": [
      "Всего выбросов в выборке: 19998\n"
     ]
    }
   ],
   "source": [
    "outliers = []\n",
    "\n",
    "lower_bound = df['price'].quantile(0.25) - 1.5 * iqr\n",
    "upper_bound = df['price'].quantile(0.75) + 1.5 * iqr\n",
    "\n",
    "# убедимся, что циклы в таблицах - не самый удобный способ \n",
    "# далее не будем им пользоваться\n",
    "\n",
    "for i in df.index:\n",
    "    if df.iloc[i]['price'] > upper_bound or df.iloc[i]['price'] < lower_bound:\n",
    "        outliers.append(df.iloc[i]['price'])\n",
    "        \n",
    "print(f'Всего выбросов в выборке: {len(outliers)}')"
   ]
  },
  {
   "cell_type": "markdown",
   "metadata": {},
   "source": [
    "Слишком много выбросов, однако здесь нужно посмотреть более детально."
   ]
  },
  {
   "cell_type": "markdown",
   "metadata": {},
   "source": [
    "Найдем выбросы по цене в разрезе категорий товара.\n",
    "Определим экстремально дешевые и дорогие товары в каждой из категорий"
   ]
  },
  {
   "cell_type": "code",
   "execution_count": 50,
   "metadata": {},
   "outputs": [
    {
     "data": {
      "text/html": [
       "<div>\n",
       "<style scoped>\n",
       "    .dataframe tbody tr th:only-of-type {\n",
       "        vertical-align: middle;\n",
       "    }\n",
       "\n",
       "    .dataframe tbody tr th {\n",
       "        vertical-align: top;\n",
       "    }\n",
       "\n",
       "    .dataframe thead th {\n",
       "        text-align: right;\n",
       "    }\n",
       "</style>\n",
       "<table border=\"1\" class=\"dataframe\">\n",
       "  <thead>\n",
       "    <tr style=\"text-align: right;\">\n",
       "      <th></th>\n",
       "      <th>count</th>\n",
       "      <th>mean</th>\n",
       "      <th>std</th>\n",
       "      <th>min</th>\n",
       "      <th>25%</th>\n",
       "      <th>50%</th>\n",
       "      <th>75%</th>\n",
       "      <th>max</th>\n",
       "      <th>iqr</th>\n",
       "      <th>lower_bound</th>\n",
       "      <th>upper_bound</th>\n",
       "      <th>any_outlier</th>\n",
       "    </tr>\n",
       "    <tr>\n",
       "      <th>category</th>\n",
       "      <th></th>\n",
       "      <th></th>\n",
       "      <th></th>\n",
       "      <th></th>\n",
       "      <th></th>\n",
       "      <th></th>\n",
       "      <th></th>\n",
       "      <th></th>\n",
       "      <th></th>\n",
       "      <th></th>\n",
       "      <th></th>\n",
       "      <th></th>\n",
       "    </tr>\n",
       "  </thead>\n",
       "  <tbody>\n",
       "    <tr>\n",
       "      <th>Books</th>\n",
       "      <td>4981.0</td>\n",
       "      <td>45.568621</td>\n",
       "      <td>21.492662</td>\n",
       "      <td>15.15</td>\n",
       "      <td>30.30</td>\n",
       "      <td>45.45</td>\n",
       "      <td>60.60</td>\n",
       "      <td>75.75</td>\n",
       "      <td>30.30</td>\n",
       "      <td>0.0</td>\n",
       "      <td>106.05</td>\n",
       "      <td>no</td>\n",
       "    </tr>\n",
       "    <tr>\n",
       "      <th>Clothing</th>\n",
       "      <td>34487.0</td>\n",
       "      <td>901.084021</td>\n",
       "      <td>424.225594</td>\n",
       "      <td>300.08</td>\n",
       "      <td>600.16</td>\n",
       "      <td>900.24</td>\n",
       "      <td>1200.32</td>\n",
       "      <td>1500.40</td>\n",
       "      <td>600.16</td>\n",
       "      <td>0.0</td>\n",
       "      <td>2100.56</td>\n",
       "      <td>no</td>\n",
       "    </tr>\n",
       "    <tr>\n",
       "      <th>Cosmetics</th>\n",
       "      <td>15097.0</td>\n",
       "      <td>122.448626</td>\n",
       "      <td>57.458097</td>\n",
       "      <td>40.66</td>\n",
       "      <td>81.32</td>\n",
       "      <td>121.98</td>\n",
       "      <td>162.64</td>\n",
       "      <td>203.30</td>\n",
       "      <td>81.32</td>\n",
       "      <td>0.0</td>\n",
       "      <td>284.62</td>\n",
       "      <td>no</td>\n",
       "    </tr>\n",
       "    <tr>\n",
       "      <th>Food &amp; Beverage</th>\n",
       "      <td>14776.0</td>\n",
       "      <td>15.671948</td>\n",
       "      <td>7.422176</td>\n",
       "      <td>5.23</td>\n",
       "      <td>10.46</td>\n",
       "      <td>15.69</td>\n",
       "      <td>20.92</td>\n",
       "      <td>26.15</td>\n",
       "      <td>10.46</td>\n",
       "      <td>0.0</td>\n",
       "      <td>36.61</td>\n",
       "      <td>no</td>\n",
       "    </tr>\n",
       "    <tr>\n",
       "      <th>Shoes</th>\n",
       "      <td>10034.0</td>\n",
       "      <td>1807.388568</td>\n",
       "      <td>845.116269</td>\n",
       "      <td>600.17</td>\n",
       "      <td>1200.34</td>\n",
       "      <td>1800.51</td>\n",
       "      <td>2400.68</td>\n",
       "      <td>3000.85</td>\n",
       "      <td>1200.34</td>\n",
       "      <td>0.0</td>\n",
       "      <td>4201.19</td>\n",
       "      <td>no</td>\n",
       "    </tr>\n",
       "    <tr>\n",
       "      <th>Souvenir</th>\n",
       "      <td>4999.0</td>\n",
       "      <td>34.894345</td>\n",
       "      <td>16.564498</td>\n",
       "      <td>11.73</td>\n",
       "      <td>23.46</td>\n",
       "      <td>35.19</td>\n",
       "      <td>46.92</td>\n",
       "      <td>58.65</td>\n",
       "      <td>23.46</td>\n",
       "      <td>0.0</td>\n",
       "      <td>82.11</td>\n",
       "      <td>no</td>\n",
       "    </tr>\n",
       "    <tr>\n",
       "      <th>Technology</th>\n",
       "      <td>4996.0</td>\n",
       "      <td>3156.935548</td>\n",
       "      <td>1481.559805</td>\n",
       "      <td>1050.00</td>\n",
       "      <td>2100.00</td>\n",
       "      <td>3150.00</td>\n",
       "      <td>4200.00</td>\n",
       "      <td>5250.00</td>\n",
       "      <td>2100.00</td>\n",
       "      <td>0.0</td>\n",
       "      <td>7350.00</td>\n",
       "      <td>no</td>\n",
       "    </tr>\n",
       "    <tr>\n",
       "      <th>Toys</th>\n",
       "      <td>10087.0</td>\n",
       "      <td>107.733185</td>\n",
       "      <td>50.364844</td>\n",
       "      <td>35.84</td>\n",
       "      <td>71.68</td>\n",
       "      <td>107.52</td>\n",
       "      <td>143.36</td>\n",
       "      <td>179.20</td>\n",
       "      <td>71.68</td>\n",
       "      <td>0.0</td>\n",
       "      <td>250.88</td>\n",
       "      <td>no</td>\n",
       "    </tr>\n",
       "  </tbody>\n",
       "</table>\n",
       "</div>"
      ],
      "text/plain": [
       "                   count         mean          std      min      25%      50%  \\\n",
       "category                                                                        \n",
       "Books             4981.0    45.568621    21.492662    15.15    30.30    45.45   \n",
       "Clothing         34487.0   901.084021   424.225594   300.08   600.16   900.24   \n",
       "Cosmetics        15097.0   122.448626    57.458097    40.66    81.32   121.98   \n",
       "Food & Beverage  14776.0    15.671948     7.422176     5.23    10.46    15.69   \n",
       "Shoes            10034.0  1807.388568   845.116269   600.17  1200.34  1800.51   \n",
       "Souvenir          4999.0    34.894345    16.564498    11.73    23.46    35.19   \n",
       "Technology        4996.0  3156.935548  1481.559805  1050.00  2100.00  3150.00   \n",
       "Toys             10087.0   107.733185    50.364844    35.84    71.68   107.52   \n",
       "\n",
       "                     75%      max      iqr  lower_bound  upper_bound  \\\n",
       "category                                                               \n",
       "Books              60.60    75.75    30.30          0.0       106.05   \n",
       "Clothing         1200.32  1500.40   600.16          0.0      2100.56   \n",
       "Cosmetics         162.64   203.30    81.32          0.0       284.62   \n",
       "Food & Beverage    20.92    26.15    10.46          0.0        36.61   \n",
       "Shoes            2400.68  3000.85  1200.34          0.0      4201.19   \n",
       "Souvenir           46.92    58.65    23.46          0.0        82.11   \n",
       "Technology       4200.00  5250.00  2100.00          0.0      7350.00   \n",
       "Toys              143.36   179.20    71.68          0.0       250.88   \n",
       "\n",
       "                any_outlier  \n",
       "category                     \n",
       "Books                    no  \n",
       "Clothing                 no  \n",
       "Cosmetics                no  \n",
       "Food & Beverage          no  \n",
       "Shoes                    no  \n",
       "Souvenir                 no  \n",
       "Technology               no  \n",
       "Toys                     no  "
      ]
     },
     "execution_count": 50,
     "metadata": {},
     "output_type": "execute_result"
    }
   ],
   "source": [
    "# группируем данные по категориям и выводим общую табличку с описательными статистиками\n",
    "df_stat = df.groupby('category')['price'].describe()\n",
    "\n",
    "df_stat['iqr'] = df_stat['75%'] - df_stat['25%']\n",
    "\n",
    "df_stat['lower_bound'] = df_stat['25%'] - 1.5 * df_stat['iqr']\n",
    "df_stat['upper_bound'] = df_stat['75%'] + 1.5 * df_stat['iqr']\n",
    "\n",
    "# скорректируем нижнюю границу из отрицательных значений до нуля\n",
    "df_stat['lower_bound'] = np.where(df_stat['lower_bound'] < 0, 0, df_stat['lower_bound'])\n",
    "\n",
    "# проверим есть ли вхоть один выброс по верхней границе\n",
    "df_stat['any_outlier'] = np.where(df_stat['max'] - df_stat['upper_bound'] > 0, 'yes', 'no')\n",
    "\n",
    "# наличие выбросов по максимальному значению\n",
    "df_stat"
   ]
  },
  {
   "cell_type": "markdown",
   "metadata": {},
   "source": [
    "По категориям выбросов нет, что очень приятно!"
   ]
  },
  {
   "cell_type": "markdown",
   "metadata": {},
   "source": [
    "Посмотрим на тип графика, подходящий для иллюстрации наличия выбросов (ящик с усами, boxplot)."
   ]
  },
  {
   "cell_type": "code",
   "execution_count": 51,
   "metadata": {},
   "outputs": [
    {
     "data": {
      "image/png": "[encoded data removed]",
      "text/plain": [
       "<Figure size 1080x360 with 1 Axes>"
      ]
     },
     "metadata": {
      "needs_background": "light"
     },
     "output_type": "display_data"
    }
   ],
   "source": [
    "plt.figure(figsize=(15,5))\n",
    "df_1 = df[df['category'].isin(('Clothing', 'Shoes', 'Technology'))]\n",
    "sns.boxplot(x=df_1['category'], y=df_1['price'], palette=\"Blues\", width=0.5)\n",
    "plt.show()"
   ]
  },
  {
   "cell_type": "code",
   "execution_count": 52,
   "metadata": {},
   "outputs": [
    {
     "data": {
      "image/png": "[encoded data removed]",
      "text/plain": [
       "<Figure size 1080x360 with 1 Axes>"
      ]
     },
     "metadata": {
      "needs_background": "light"
     },
     "output_type": "display_data"
    }
   ],
   "source": [
    "plt.figure(figsize=(15,5))\n",
    "df_1 = df[~df['category'].isin(('Clothing', 'Shoes', 'Technology'))]\n",
    "sns.boxplot(x=df_1['category'], y=df_1['price'], palette=\"Blues\", width=0.5)\n",
    "plt.show()"
   ]
  },
  {
   "cell_type": "markdown",
   "metadata": {},
   "source": [
    "Действительно, выбросов нет!"
   ]
  },
  {
   "cell_type": "markdown",
   "metadata": {},
   "source": [
    "<div class=\"alert alert-danger alertdanger\">\n",
    "<h1> Задание - Обязательное </h1>\n",
    "\n",
    "Создайте новую переменную **сумма покупки = кол-во * цена товара**\n",
    "\n",
    "Найдите количество выбросов по данной переменной.\n",
    "Создайте новый датафрейм  **df_task_1** без данных наблюдений.\n",
    "\n",
    "**Подсказка**\n",
    "\n",
    "Удаляем строки с помощью команды \n",
    "<code>dataframe.drop(index, axis = 0, inplace = True)</code> \n",
    "    \n",
    "**Спойлер**\n",
    "    \n",
    "Итеративно обрабатывать большие массивы данных достаточно долго.\n",
    "Можно подумать как оптимизировать процесс.\n",
    "\n",
    "</div>"
   ]
  },
  {
   "cell_type": "code",
   "execution_count": null,
   "metadata": {},
   "outputs": [],
   "source": [
    "# YOUR CODE"
   ]
  },
  {
   "cell_type": "markdown",
   "metadata": {},
   "source": [
    "**Однако это не единственный способ определения выбросов**\n",
    "\n",
    "Меры разброса также показывают, насколько хорошо данные значения представляют совокупность."
   ]
  },
  {
   "cell_type": "markdown",
   "metadata": {},
   "source": [
    "**Дисперсия и стандартное отклонение**\n",
    "\n",
    "Давайте посмотрим на то, насколько цена товара отличается от средней по категории. \n",
    "\n",
    "Для этого будем брать цену $x_i$ и вычитать из нее среднее, $\\bar x$:\n",
    "\n",
    "$$\n",
    "(x_i - \\bar x)\n",
    "$$\n",
    "\n",
    "Укаазанная ниже величина называется *дисперсией*\n",
    "\n",
    "$$\n",
    "\\sigma^2= \\frac{1}{n} \\sum_{i=1}^{n} (x_{i}-{\\bar {x}})^{2}\n",
    "$$\n",
    "\n",
    "Проблема дисперсии в том, что она измеряется в квадратных единицах. \n",
    "Чтобы вернуться назад, к обычным единицам, нужно извлечь из неё корень. \n",
    "Тогда получится величина, которая называется *среднеквадратическим отклонением* или *стандартным отклонением*. \n",
    "\n",
    "**Более правильна формула** дисперсии со статистической точки зрения. Она зашита в статистические пакеты.\n",
    "\n",
    "$$\n",
    "\\sigma^2= \\frac{1}{n-1} \\sum_{i=1}^{n} (x_{i}-{\\bar {x}})^{2}\n",
    "$$"
   ]
  },
  {
   "cell_type": "code",
   "execution_count": 35,
   "metadata": {},
   "outputs": [
    {
     "data": {
      "text/plain": [
       "category\n",
       "Books              4.619345e+02\n",
       "Clothing           1.799674e+05\n",
       "Cosmetics          3.301433e+03\n",
       "Food & Beverage    5.508869e+01\n",
       "Shoes              7.142215e+05\n",
       "Souvenir           2.743826e+02\n",
       "Technology         2.195019e+06\n",
       "Toys               2.536618e+03\n",
       "Name: price, dtype: float64"
      ]
     },
     "execution_count": 35,
     "metadata": {},
     "output_type": "execute_result"
    }
   ],
   "source": [
    "# дисперсия\n",
    "df.groupby('category')['price'].var()"
   ]
  },
  {
   "cell_type": "code",
   "execution_count": 36,
   "metadata": {},
   "outputs": [
    {
     "data": {
      "text/plain": [
       "category\n",
       "Books                21.492662\n",
       "Clothing            424.225594\n",
       "Cosmetics            57.458097\n",
       "Food & Beverage       7.422176\n",
       "Shoes               845.116269\n",
       "Souvenir             16.564498\n",
       "Technology         1481.559805\n",
       "Toys                 50.364844\n",
       "Name: price, dtype: float64"
      ]
     },
     "execution_count": 36,
     "metadata": {},
     "output_type": "execute_result"
    }
   ],
   "source": [
    "# стандартное отклонение\n",
    "df.groupby('category')['price'].std()"
   ]
  },
  {
   "cell_type": "markdown",
   "metadata": {},
   "source": [
    "**Проинтерпретируйте** полученные результаты:\n",
    "\n",
    "* В какой категории наблюдается наибольший и наименьший разброс и с чем это может быть связано?\n",
    "* Предположите, в чем смысл сначала возводить отклонения в квадрат, а потом брать корень?"
   ]
  },
  {
   "cell_type": "markdown",
   "metadata": {},
   "source": [
    "<div class=\"alert alert-danger alertdanger\">\n",
    "<h1> Задание - Полезное </h1>\n",
    "\n",
    "Рассчитайте дисперсию по переменной цены товара вручную (без использования специальных команд).\n",
    "    \n",
    "Вспомним **Numerical Python**\n",
    "\n",
    "</div>"
   ]
  },
  {
   "cell_type": "code",
   "execution_count": null,
   "metadata": {},
   "outputs": [],
   "source": [
    "# YOUR CODE"
   ]
  },
  {
   "cell_type": "markdown",
   "metadata": {},
   "source": [
    "**Еще один способ выявления выбросов.**\n",
    "\n",
    "Если мы знаем, что распределение значений в выборке является **гауссовским** или гауссовидным (симметричное, колоколообразное, нормальное), мы можем использовать стандартное отклонение выборки в качестве предела для выявления выбросов.\n",
    "\n",
    "Три стандартных отклонения от среднего значения - это обычное ограничение на практике для выявления выбросов в нормальном распределении. \n",
    "Для небольших выборок данных может быть использовано значение 2 стандартных отклонения (95%), а для более крупных выборок может быть использовано значение 4 стандартных отклонения (99,9%).\n"
   ]
  },
  {
   "cell_type": "markdown",
   "metadata": {},
   "source": [
    "\n",
    "<center>\n",
    "<img src=\"https://github.com/aaparshina/22-23_Intro-to-DS/blob/main/PICS/Z-2_tailed.png?raw=true\" width=\"400\" height=\"200\">\n",
    "</center>"
   ]
  },
  {
   "cell_type": "markdown",
   "metadata": {},
   "source": [
    "Распределение цен не похоже на нормальное, однако в учебных целях попробуем найти выбросы с помощью среднего и стандартного отклонения."
   ]
  },
  {
   "cell_type": "code",
   "execution_count": 38,
   "metadata": {
    "scrolled": false
   },
   "outputs": [
    {
     "name": "stdout",
     "output_type": "stream",
     "text": [
      "-1193.1128135083245\n",
      "2571.6254553535437\n"
     ]
    },
    {
     "data": {
      "text/html": [
       "<div>\n",
       "<style scoped>\n",
       "    .dataframe tbody tr th:only-of-type {\n",
       "        vertical-align: middle;\n",
       "    }\n",
       "\n",
       "    .dataframe tbody tr th {\n",
       "        vertical-align: top;\n",
       "    }\n",
       "\n",
       "    .dataframe thead th {\n",
       "        text-align: right;\n",
       "    }\n",
       "</style>\n",
       "<table border=\"1\" class=\"dataframe\">\n",
       "  <thead>\n",
       "    <tr style=\"text-align: right;\">\n",
       "      <th></th>\n",
       "      <th>gender</th>\n",
       "      <th>age</th>\n",
       "      <th>category</th>\n",
       "      <th>quantity</th>\n",
       "      <th>price</th>\n",
       "      <th>payment_method</th>\n",
       "      <th>invoice_date</th>\n",
       "      <th>shopping_mall</th>\n",
       "      <th>age_category</th>\n",
       "      <th>revenue</th>\n",
       "    </tr>\n",
       "  </thead>\n",
       "  <tbody>\n",
       "    <tr>\n",
       "      <th>3</th>\n",
       "      <td>Female</td>\n",
       "      <td>66</td>\n",
       "      <td>Shoes</td>\n",
       "      <td>5</td>\n",
       "      <td>3000.85</td>\n",
       "      <td>Credit Card</td>\n",
       "      <td>16/05/2021</td>\n",
       "      <td>Metropol AVM</td>\n",
       "      <td>Old</td>\n",
       "      <td>15004.25</td>\n",
       "    </tr>\n",
       "    <tr>\n",
       "      <th>15</th>\n",
       "      <td>Male</td>\n",
       "      <td>24</td>\n",
       "      <td>Shoes</td>\n",
       "      <td>5</td>\n",
       "      <td>3000.85</td>\n",
       "      <td>Credit Card</td>\n",
       "      <td>7/11/2021</td>\n",
       "      <td>Viaport Outlet</td>\n",
       "      <td>Young</td>\n",
       "      <td>15004.25</td>\n",
       "    </tr>\n",
       "    <tr>\n",
       "      <th>23</th>\n",
       "      <td>Male</td>\n",
       "      <td>44</td>\n",
       "      <td>Technology</td>\n",
       "      <td>5</td>\n",
       "      <td>5250.00</td>\n",
       "      <td>Cash</td>\n",
       "      <td>26/10/2021</td>\n",
       "      <td>Kanyon</td>\n",
       "      <td>Adult</td>\n",
       "      <td>26250.00</td>\n",
       "    </tr>\n",
       "    <tr>\n",
       "      <th>53</th>\n",
       "      <td>Female</td>\n",
       "      <td>43</td>\n",
       "      <td>Technology</td>\n",
       "      <td>4</td>\n",
       "      <td>4200.00</td>\n",
       "      <td>Cash</td>\n",
       "      <td>22/02/2022</td>\n",
       "      <td>Metrocity</td>\n",
       "      <td>Adult</td>\n",
       "      <td>16800.00</td>\n",
       "    </tr>\n",
       "    <tr>\n",
       "      <th>69</th>\n",
       "      <td>Female</td>\n",
       "      <td>44</td>\n",
       "      <td>Technology</td>\n",
       "      <td>5</td>\n",
       "      <td>5250.00</td>\n",
       "      <td>Credit Card</td>\n",
       "      <td>19/11/2021</td>\n",
       "      <td>Mall of Istanbul</td>\n",
       "      <td>Adult</td>\n",
       "      <td>26250.00</td>\n",
       "    </tr>\n",
       "    <tr>\n",
       "      <th>...</th>\n",
       "      <td>...</td>\n",
       "      <td>...</td>\n",
       "      <td>...</td>\n",
       "      <td>...</td>\n",
       "      <td>...</td>\n",
       "      <td>...</td>\n",
       "      <td>...</td>\n",
       "      <td>...</td>\n",
       "      <td>...</td>\n",
       "      <td>...</td>\n",
       "    </tr>\n",
       "    <tr>\n",
       "      <th>99332</th>\n",
       "      <td>Female</td>\n",
       "      <td>53</td>\n",
       "      <td>Shoes</td>\n",
       "      <td>5</td>\n",
       "      <td>3000.85</td>\n",
       "      <td>Credit Card</td>\n",
       "      <td>13/03/2022</td>\n",
       "      <td>Metrocity</td>\n",
       "      <td>Old</td>\n",
       "      <td>15004.25</td>\n",
       "    </tr>\n",
       "    <tr>\n",
       "      <th>99374</th>\n",
       "      <td>Male</td>\n",
       "      <td>36</td>\n",
       "      <td>Technology</td>\n",
       "      <td>3</td>\n",
       "      <td>3150.00</td>\n",
       "      <td>Credit Card</td>\n",
       "      <td>24/12/2021</td>\n",
       "      <td>Metropol AVM</td>\n",
       "      <td>Adult</td>\n",
       "      <td>9450.00</td>\n",
       "    </tr>\n",
       "    <tr>\n",
       "      <th>99387</th>\n",
       "      <td>Male</td>\n",
       "      <td>33</td>\n",
       "      <td>Technology</td>\n",
       "      <td>3</td>\n",
       "      <td>3150.00</td>\n",
       "      <td>Credit Card</td>\n",
       "      <td>1/8/2022</td>\n",
       "      <td>Kanyon</td>\n",
       "      <td>Young</td>\n",
       "      <td>9450.00</td>\n",
       "    </tr>\n",
       "    <tr>\n",
       "      <th>99424</th>\n",
       "      <td>Female</td>\n",
       "      <td>34</td>\n",
       "      <td>Technology</td>\n",
       "      <td>3</td>\n",
       "      <td>3150.00</td>\n",
       "      <td>Cash</td>\n",
       "      <td>13/01/2021</td>\n",
       "      <td>Metrocity</td>\n",
       "      <td>Young</td>\n",
       "      <td>9450.00</td>\n",
       "    </tr>\n",
       "    <tr>\n",
       "      <th>99455</th>\n",
       "      <td>Male</td>\n",
       "      <td>56</td>\n",
       "      <td>Technology</td>\n",
       "      <td>4</td>\n",
       "      <td>4200.00</td>\n",
       "      <td>Cash</td>\n",
       "      <td>16/03/2021</td>\n",
       "      <td>Istinye Park</td>\n",
       "      <td>Old</td>\n",
       "      <td>16800.00</td>\n",
       "    </tr>\n",
       "  </tbody>\n",
       "</table>\n",
       "<p>5024 rows × 10 columns</p>\n",
       "</div>"
      ],
      "text/plain": [
       "       gender  age    category  quantity    price payment_method invoice_date  \\\n",
       "3      Female   66       Shoes         5  3000.85    Credit Card   16/05/2021   \n",
       "15       Male   24       Shoes         5  3000.85    Credit Card    7/11/2021   \n",
       "23       Male   44  Technology         5  5250.00           Cash   26/10/2021   \n",
       "53     Female   43  Technology         4  4200.00           Cash   22/02/2022   \n",
       "69     Female   44  Technology         5  5250.00    Credit Card   19/11/2021   \n",
       "...       ...  ...         ...       ...      ...            ...          ...   \n",
       "99332  Female   53       Shoes         5  3000.85    Credit Card   13/03/2022   \n",
       "99374    Male   36  Technology         3  3150.00    Credit Card   24/12/2021   \n",
       "99387    Male   33  Technology         3  3150.00    Credit Card     1/8/2022   \n",
       "99424  Female   34  Technology         3  3150.00           Cash   13/01/2021   \n",
       "99455    Male   56  Technology         4  4200.00           Cash   16/03/2021   \n",
       "\n",
       "          shopping_mall age_category   revenue  \n",
       "3          Metropol AVM          Old  15004.25  \n",
       "15       Viaport Outlet        Young  15004.25  \n",
       "23               Kanyon        Adult  26250.00  \n",
       "53            Metrocity        Adult  16800.00  \n",
       "69     Mall of Istanbul        Adult  26250.00  \n",
       "...                 ...          ...       ...  \n",
       "99332         Metrocity          Old  15004.25  \n",
       "99374      Metropol AVM        Adult   9450.00  \n",
       "99387            Kanyon        Young   9450.00  \n",
       "99424         Metrocity        Young   9450.00  \n",
       "99455      Istinye Park          Old  16800.00  \n",
       "\n",
       "[5024 rows x 10 columns]"
      ]
     },
     "execution_count": 38,
     "metadata": {},
     "output_type": "execute_result"
    }
   ],
   "source": [
    "mean = df['price'].mean()\n",
    "std = df['price'].std()\n",
    "\n",
    "left_tail = mean - 2.0 * std\n",
    "right_tail = mean + 2.0 * std\n",
    "\n",
    "print(left_tail, right_tail, sep = '\\n')\n",
    "\n",
    "df[(df['price'] < left_tail) | (df['price'] > right_tail)]"
   ]
  },
  {
   "cell_type": "markdown",
   "metadata": {},
   "source": [
    "И в разрезе категорий тоже"
   ]
  },
  {
   "cell_type": "code",
   "execution_count": 39,
   "metadata": {},
   "outputs": [
    {
     "data": {
      "text/html": [
       "<div>\n",
       "<style scoped>\n",
       "    .dataframe tbody tr th:only-of-type {\n",
       "        vertical-align: middle;\n",
       "    }\n",
       "\n",
       "    .dataframe tbody tr th {\n",
       "        vertical-align: top;\n",
       "    }\n",
       "\n",
       "    .dataframe thead th {\n",
       "        text-align: right;\n",
       "    }\n",
       "</style>\n",
       "<table border=\"1\" class=\"dataframe\">\n",
       "  <thead>\n",
       "    <tr style=\"text-align: right;\">\n",
       "      <th></th>\n",
       "      <th>count</th>\n",
       "      <th>mean</th>\n",
       "      <th>std</th>\n",
       "      <th>min</th>\n",
       "      <th>25%</th>\n",
       "      <th>50%</th>\n",
       "      <th>75%</th>\n",
       "      <th>max</th>\n",
       "      <th>iqr</th>\n",
       "      <th>lower_bound</th>\n",
       "      <th>upper_bound</th>\n",
       "      <th>any_outlier</th>\n",
       "      <th>lb</th>\n",
       "      <th>ub</th>\n",
       "      <th>std_outlier</th>\n",
       "    </tr>\n",
       "    <tr>\n",
       "      <th>category</th>\n",
       "      <th></th>\n",
       "      <th></th>\n",
       "      <th></th>\n",
       "      <th></th>\n",
       "      <th></th>\n",
       "      <th></th>\n",
       "      <th></th>\n",
       "      <th></th>\n",
       "      <th></th>\n",
       "      <th></th>\n",
       "      <th></th>\n",
       "      <th></th>\n",
       "      <th></th>\n",
       "      <th></th>\n",
       "      <th></th>\n",
       "    </tr>\n",
       "  </thead>\n",
       "  <tbody>\n",
       "    <tr>\n",
       "      <th>Books</th>\n",
       "      <td>4981.0</td>\n",
       "      <td>45.568621</td>\n",
       "      <td>21.492662</td>\n",
       "      <td>15.15</td>\n",
       "      <td>30.30</td>\n",
       "      <td>45.45</td>\n",
       "      <td>60.60</td>\n",
       "      <td>75.75</td>\n",
       "      <td>30.30</td>\n",
       "      <td>0.0</td>\n",
       "      <td>106.05</td>\n",
       "      <td>no</td>\n",
       "      <td>2.583297</td>\n",
       "      <td>88.553945</td>\n",
       "      <td>no</td>\n",
       "    </tr>\n",
       "    <tr>\n",
       "      <th>Clothing</th>\n",
       "      <td>34487.0</td>\n",
       "      <td>901.084021</td>\n",
       "      <td>424.225594</td>\n",
       "      <td>300.08</td>\n",
       "      <td>600.16</td>\n",
       "      <td>900.24</td>\n",
       "      <td>1200.32</td>\n",
       "      <td>1500.40</td>\n",
       "      <td>600.16</td>\n",
       "      <td>0.0</td>\n",
       "      <td>2100.56</td>\n",
       "      <td>no</td>\n",
       "      <td>52.632834</td>\n",
       "      <td>1749.535208</td>\n",
       "      <td>no</td>\n",
       "    </tr>\n",
       "    <tr>\n",
       "      <th>Cosmetics</th>\n",
       "      <td>15097.0</td>\n",
       "      <td>122.448626</td>\n",
       "      <td>57.458097</td>\n",
       "      <td>40.66</td>\n",
       "      <td>81.32</td>\n",
       "      <td>121.98</td>\n",
       "      <td>162.64</td>\n",
       "      <td>203.30</td>\n",
       "      <td>81.32</td>\n",
       "      <td>0.0</td>\n",
       "      <td>284.62</td>\n",
       "      <td>no</td>\n",
       "      <td>7.532431</td>\n",
       "      <td>237.364820</td>\n",
       "      <td>no</td>\n",
       "    </tr>\n",
       "    <tr>\n",
       "      <th>Food &amp; Beverage</th>\n",
       "      <td>14776.0</td>\n",
       "      <td>15.671948</td>\n",
       "      <td>7.422176</td>\n",
       "      <td>5.23</td>\n",
       "      <td>10.46</td>\n",
       "      <td>15.69</td>\n",
       "      <td>20.92</td>\n",
       "      <td>26.15</td>\n",
       "      <td>10.46</td>\n",
       "      <td>0.0</td>\n",
       "      <td>36.61</td>\n",
       "      <td>no</td>\n",
       "      <td>0.827597</td>\n",
       "      <td>30.516300</td>\n",
       "      <td>no</td>\n",
       "    </tr>\n",
       "    <tr>\n",
       "      <th>Shoes</th>\n",
       "      <td>10034.0</td>\n",
       "      <td>1807.388568</td>\n",
       "      <td>845.116269</td>\n",
       "      <td>600.17</td>\n",
       "      <td>1200.34</td>\n",
       "      <td>1800.51</td>\n",
       "      <td>2400.68</td>\n",
       "      <td>3000.85</td>\n",
       "      <td>1200.34</td>\n",
       "      <td>0.0</td>\n",
       "      <td>4201.19</td>\n",
       "      <td>no</td>\n",
       "      <td>117.156029</td>\n",
       "      <td>3497.621107</td>\n",
       "      <td>no</td>\n",
       "    </tr>\n",
       "    <tr>\n",
       "      <th>Souvenir</th>\n",
       "      <td>4999.0</td>\n",
       "      <td>34.894345</td>\n",
       "      <td>16.564498</td>\n",
       "      <td>11.73</td>\n",
       "      <td>23.46</td>\n",
       "      <td>35.19</td>\n",
       "      <td>46.92</td>\n",
       "      <td>58.65</td>\n",
       "      <td>23.46</td>\n",
       "      <td>0.0</td>\n",
       "      <td>82.11</td>\n",
       "      <td>no</td>\n",
       "      <td>1.765348</td>\n",
       "      <td>68.023341</td>\n",
       "      <td>no</td>\n",
       "    </tr>\n",
       "    <tr>\n",
       "      <th>Technology</th>\n",
       "      <td>4996.0</td>\n",
       "      <td>3156.935548</td>\n",
       "      <td>1481.559805</td>\n",
       "      <td>1050.00</td>\n",
       "      <td>2100.00</td>\n",
       "      <td>3150.00</td>\n",
       "      <td>4200.00</td>\n",
       "      <td>5250.00</td>\n",
       "      <td>2100.00</td>\n",
       "      <td>0.0</td>\n",
       "      <td>7350.00</td>\n",
       "      <td>no</td>\n",
       "      <td>193.815938</td>\n",
       "      <td>6120.055159</td>\n",
       "      <td>no</td>\n",
       "    </tr>\n",
       "    <tr>\n",
       "      <th>Toys</th>\n",
       "      <td>10087.0</td>\n",
       "      <td>107.733185</td>\n",
       "      <td>50.364844</td>\n",
       "      <td>35.84</td>\n",
       "      <td>71.68</td>\n",
       "      <td>107.52</td>\n",
       "      <td>143.36</td>\n",
       "      <td>179.20</td>\n",
       "      <td>71.68</td>\n",
       "      <td>0.0</td>\n",
       "      <td>250.88</td>\n",
       "      <td>no</td>\n",
       "      <td>7.003498</td>\n",
       "      <td>208.462873</td>\n",
       "      <td>no</td>\n",
       "    </tr>\n",
       "  </tbody>\n",
       "</table>\n",
       "</div>"
      ],
      "text/plain": [
       "                   count         mean          std      min      25%      50%  \\\n",
       "category                                                                        \n",
       "Books             4981.0    45.568621    21.492662    15.15    30.30    45.45   \n",
       "Clothing         34487.0   901.084021   424.225594   300.08   600.16   900.24   \n",
       "Cosmetics        15097.0   122.448626    57.458097    40.66    81.32   121.98   \n",
       "Food & Beverage  14776.0    15.671948     7.422176     5.23    10.46    15.69   \n",
       "Shoes            10034.0  1807.388568   845.116269   600.17  1200.34  1800.51   \n",
       "Souvenir          4999.0    34.894345    16.564498    11.73    23.46    35.19   \n",
       "Technology        4996.0  3156.935548  1481.559805  1050.00  2100.00  3150.00   \n",
       "Toys             10087.0   107.733185    50.364844    35.84    71.68   107.52   \n",
       "\n",
       "                     75%      max      iqr  lower_bound  upper_bound  \\\n",
       "category                                                               \n",
       "Books              60.60    75.75    30.30          0.0       106.05   \n",
       "Clothing         1200.32  1500.40   600.16          0.0      2100.56   \n",
       "Cosmetics         162.64   203.30    81.32          0.0       284.62   \n",
       "Food & Beverage    20.92    26.15    10.46          0.0        36.61   \n",
       "Shoes            2400.68  3000.85  1200.34          0.0      4201.19   \n",
       "Souvenir           46.92    58.65    23.46          0.0        82.11   \n",
       "Technology       4200.00  5250.00  2100.00          0.0      7350.00   \n",
       "Toys              143.36   179.20    71.68          0.0       250.88   \n",
       "\n",
       "                any_outlier          lb           ub std_outlier  \n",
       "category                                                          \n",
       "Books                    no    2.583297    88.553945          no  \n",
       "Clothing                 no   52.632834  1749.535208          no  \n",
       "Cosmetics                no    7.532431   237.364820          no  \n",
       "Food & Beverage          no    0.827597    30.516300          no  \n",
       "Shoes                    no  117.156029  3497.621107          no  \n",
       "Souvenir                 no    1.765348    68.023341          no  \n",
       "Technology               no  193.815938  6120.055159          no  \n",
       "Toys                     no    7.003498   208.462873          no  "
      ]
     },
     "execution_count": 39,
     "metadata": {},
     "output_type": "execute_result"
    }
   ],
   "source": [
    "df_stat['lb'] = df_stat['mean'] - 2.0 * df_stat['std']\n",
    "df_stat['ub'] = df_stat['mean'] + 2.0 * df_stat['std']\n",
    "\n",
    "# скорректируем нижнюю границу из отрицательных значений до нуля\n",
    "df_stat['lb'] = np.where(df_stat['lb'] < 0, 0, df_stat['lb'])\n",
    "\n",
    "# проверим есть ли вхоть один выброс по верхней границе\n",
    "df_stat['std_outlier'] = np.where(df_stat['mean'] - 2.0 * df_stat['ub'] > 0, 'yes', 'no')\n",
    "\n",
    "# наличие выбросов по максимальному значению\n",
    "df_stat"
   ]
  },
  {
   "cell_type": "markdown",
   "metadata": {},
   "source": [
    "Результат тот же. В разрезе категорий выбросы не обнаружены."
   ]
  },
  {
   "cell_type": "markdown",
   "metadata": {},
   "source": [
    "**Стандартизованная оценка (Z-Score)**\n",
    "\n",
    "<hr>\n",
    "\n",
    "Стандартизованная оценка (Z-Score) – метрика, характеризующая удаленность наблюдения от среднего значения.\n",
    "Иными словами, на сколько стандартных отклонений ниже или выше среднего находится наблюдение. \n",
    "\n",
    "Рассчитывается по формуле:\n",
    "$$\n",
    "Z = \\frac{x_i - \\bar x}{\\sigma}\n",
    "$$\n",
    "\n",
    "Это способ сравнить результаты с «нормальной» частью совокупности. "
   ]
  },
  {
   "cell_type": "markdown",
   "metadata": {},
   "source": [
    "<div class=\"alert alert-danger alertdanger\">\n",
    "<h1> Задание - Очевидное </h1>\n",
    "\n",
    "Рассчитайте по формуле выше **Z-Score** для каждого наблюдения.\n",
    "    \n",
    "Запишите пары  {возраст, Z-Score} в новый датафрейм. \n",
    "    \n",
    "Удалите дубликаты с помощью <code>df.drop_duplicates(inplace = True)</code> и отсортируйте таблицу по возрасту\n",
    "    \n",
    "Прокомментируйте результат для покупателя 20, 40 лет и 60 лет. \n",
    "    \n",
    "Для покупателя какого возраста Z-Score равен нулю?\n",
    "    \n",
    "Далее можно рассчитать Z-score с помощью команды <code>stats.zscore(df['column'])</code>.\n",
    "    \n",
    "Проверьте, что результаты совпадают.\n",
    "\n",
    "</div>"
   ]
  },
  {
   "cell_type": "code",
   "execution_count": 41,
   "metadata": {},
   "outputs": [],
   "source": [
    "# YOUR CODE"
   ]
  },
  {
   "cell_type": "markdown",
   "metadata": {},
   "source": [
    "<div class=\"alert alert-block alert-info\" style=\"margin-top: 5px\">\n",
    "    \n",
    "**Must have изучен!**\n",
    "    \n",
    "</div>"
   ]
  },
  {
   "cell_type": "markdown",
   "metadata": {},
   "source": [
    "Вернемся к анализу содержания датасета.\n",
    "\n",
    "Нам доступна дата покупки *invoice_date*, однако она представлена в виде строки.\n",
    "\n",
    "Для таких переменных есть специальный формат datetime.\n"
   ]
  },
  {
   "cell_type": "code",
   "execution_count": 43,
   "metadata": {},
   "outputs": [],
   "source": [
    "# преобразуем переменную с датой\n",
    "df['invoice_date'] = pd.to_datetime(df['invoice_date'], dayfirst = True)"
   ]
  },
  {
   "cell_type": "markdown",
   "metadata": {},
   "source": [
    "Возвращаясь к теме репрезентативности, проанализируем сезонность покупок.\n",
    "\n",
    "Если выборка была собрана в определенное время, это может привести к сезонным искажениям.\n",
    "\n",
    "С datetime очень удобно делать преобразования и агрегации.\n",
    "\n",
    "Создадим отдельные переменные для года, квартала, месяца и дня недели."
   ]
  },
  {
   "cell_type": "code",
   "execution_count": 44,
   "metadata": {},
   "outputs": [],
   "source": [
    "df['year'] = df['invoice_date'].dt.year\n",
    "\n",
    "df['quarter'] = pd.PeriodIndex(df['invoice_date'], freq = 'Q')\n",
    "df['quarter'] = df['quarter'].astype('string')\n",
    "\n",
    "df['month'] = df['invoice_date'].dt.month\n",
    "\n",
    "df['weekday']= df['invoice_date'].dt.weekday\n",
    "\n",
    "days_of_week = {\n",
    "    0: 'Monday', \n",
    "    1: 'Tuesday', \n",
    "    2: 'Wednesday', \n",
    "    3: 'Thursday', \n",
    "    4: 'Friday',\n",
    "    5: 'Saturday', \n",
    "    6: 'Sunday'\n",
    "} \n",
    "\n",
    "df['weekday']= df['invoice_date'].dt.weekday.map(days_of_week)"
   ]
  },
  {
   "cell_type": "code",
   "execution_count": 45,
   "metadata": {},
   "outputs": [
    {
     "data": {
      "text/html": [
       "<div>\n",
       "<style scoped>\n",
       "    .dataframe tbody tr th:only-of-type {\n",
       "        vertical-align: middle;\n",
       "    }\n",
       "\n",
       "    .dataframe tbody tr th {\n",
       "        vertical-align: top;\n",
       "    }\n",
       "\n",
       "    .dataframe thead th {\n",
       "        text-align: right;\n",
       "    }\n",
       "</style>\n",
       "<table border=\"1\" class=\"dataframe\">\n",
       "  <thead>\n",
       "    <tr style=\"text-align: right;\">\n",
       "      <th></th>\n",
       "      <th>gender</th>\n",
       "      <th>age</th>\n",
       "      <th>category</th>\n",
       "      <th>quantity</th>\n",
       "      <th>price</th>\n",
       "      <th>payment_method</th>\n",
       "      <th>invoice_date</th>\n",
       "      <th>shopping_mall</th>\n",
       "      <th>age_category</th>\n",
       "      <th>revenue</th>\n",
       "      <th>year</th>\n",
       "      <th>quarter</th>\n",
       "      <th>month</th>\n",
       "      <th>weekday</th>\n",
       "    </tr>\n",
       "  </thead>\n",
       "  <tbody>\n",
       "    <tr>\n",
       "      <th>0</th>\n",
       "      <td>Female</td>\n",
       "      <td>28</td>\n",
       "      <td>Clothing</td>\n",
       "      <td>5</td>\n",
       "      <td>1500.40</td>\n",
       "      <td>Credit Card</td>\n",
       "      <td>2022-08-05</td>\n",
       "      <td>Kanyon</td>\n",
       "      <td>Young</td>\n",
       "      <td>7502.00</td>\n",
       "      <td>2022</td>\n",
       "      <td>2022Q3</td>\n",
       "      <td>8</td>\n",
       "      <td>Friday</td>\n",
       "    </tr>\n",
       "    <tr>\n",
       "      <th>1</th>\n",
       "      <td>Male</td>\n",
       "      <td>21</td>\n",
       "      <td>Shoes</td>\n",
       "      <td>3</td>\n",
       "      <td>1800.51</td>\n",
       "      <td>Debit Card</td>\n",
       "      <td>2021-12-12</td>\n",
       "      <td>Forum Istanbul</td>\n",
       "      <td>Young</td>\n",
       "      <td>5401.53</td>\n",
       "      <td>2021</td>\n",
       "      <td>2021Q4</td>\n",
       "      <td>12</td>\n",
       "      <td>Sunday</td>\n",
       "    </tr>\n",
       "    <tr>\n",
       "      <th>2</th>\n",
       "      <td>Male</td>\n",
       "      <td>20</td>\n",
       "      <td>Clothing</td>\n",
       "      <td>1</td>\n",
       "      <td>300.08</td>\n",
       "      <td>Cash</td>\n",
       "      <td>2021-11-09</td>\n",
       "      <td>Metrocity</td>\n",
       "      <td>Young</td>\n",
       "      <td>300.08</td>\n",
       "      <td>2021</td>\n",
       "      <td>2021Q4</td>\n",
       "      <td>11</td>\n",
       "      <td>Tuesday</td>\n",
       "    </tr>\n",
       "    <tr>\n",
       "      <th>3</th>\n",
       "      <td>Female</td>\n",
       "      <td>66</td>\n",
       "      <td>Shoes</td>\n",
       "      <td>5</td>\n",
       "      <td>3000.85</td>\n",
       "      <td>Credit Card</td>\n",
       "      <td>2021-05-16</td>\n",
       "      <td>Metropol AVM</td>\n",
       "      <td>Old</td>\n",
       "      <td>15004.25</td>\n",
       "      <td>2021</td>\n",
       "      <td>2021Q2</td>\n",
       "      <td>5</td>\n",
       "      <td>Sunday</td>\n",
       "    </tr>\n",
       "    <tr>\n",
       "      <th>4</th>\n",
       "      <td>Female</td>\n",
       "      <td>53</td>\n",
       "      <td>Books</td>\n",
       "      <td>4</td>\n",
       "      <td>60.60</td>\n",
       "      <td>Cash</td>\n",
       "      <td>2021-10-24</td>\n",
       "      <td>Kanyon</td>\n",
       "      <td>Old</td>\n",
       "      <td>242.40</td>\n",
       "      <td>2021</td>\n",
       "      <td>2021Q4</td>\n",
       "      <td>10</td>\n",
       "      <td>Sunday</td>\n",
       "    </tr>\n",
       "  </tbody>\n",
       "</table>\n",
       "</div>"
      ],
      "text/plain": [
       "   gender  age  category  quantity    price payment_method invoice_date  \\\n",
       "0  Female   28  Clothing         5  1500.40    Credit Card   2022-08-05   \n",
       "1    Male   21     Shoes         3  1800.51     Debit Card   2021-12-12   \n",
       "2    Male   20  Clothing         1   300.08           Cash   2021-11-09   \n",
       "3  Female   66     Shoes         5  3000.85    Credit Card   2021-05-16   \n",
       "4  Female   53     Books         4    60.60           Cash   2021-10-24   \n",
       "\n",
       "    shopping_mall age_category   revenue  year quarter  month  weekday  \n",
       "0          Kanyon        Young   7502.00  2022  2022Q3      8   Friday  \n",
       "1  Forum Istanbul        Young   5401.53  2021  2021Q4     12   Sunday  \n",
       "2       Metrocity        Young    300.08  2021  2021Q4     11  Tuesday  \n",
       "3    Metropol AVM          Old  15004.25  2021  2021Q2      5   Sunday  \n",
       "4          Kanyon          Old    242.40  2021  2021Q4     10   Sunday  "
      ]
     },
     "execution_count": 45,
     "metadata": {},
     "output_type": "execute_result"
    }
   ],
   "source": [
    "df.head()"
   ]
  },
  {
   "cell_type": "markdown",
   "metadata": {},
   "source": [
    "<div class=\"alert alert-danger alertdanger\">\n",
    "<h1> Задание - Временное </h1>\n",
    "\n",
    "* В каком году объем продаж был наибольшим? На сколько процентов больше относительно прошлого года?\n",
    "* Проанализируйте объем продаж в разрезе категорий (или, например, только сувениров) по месяцам. Наблюдается ли сезонность? (создайте сводную (pivot, широкую) таблицу для более удобного визуального сравнения)\n",
    "* В какие дни (будние или выходные) чаще всего средние продажи по всем категориям больше? (создайте новую переменную и выполните группировку)\n",
    "\n",
    "</div>"
   ]
  },
  {
   "cell_type": "code",
   "execution_count": null,
   "metadata": {},
   "outputs": [],
   "source": [
    "# YOUR CODE"
   ]
  },
  {
   "cell_type": "markdown",
   "metadata": {},
   "source": [
    "<div class=\"alert alert-danger alertdanger\">\n",
    "<h1> Задание - Исследовательское* </h1>\n",
    "\n",
    "* Проанализируйте способ оплаты покупки (payment_method) в зависимости от возраста покупателя\n",
    "* Поквартально рассчитайте для каждого торгового центра абсолютный (в деньгах) и относительный (в %) прирост объема продаж квартал к кварталу (QoQ) и год к году (YoY)\n",
    "* Если предположить, что покупки по кредитной карте это долг, а по дебетовой - за собственные средства, рассчитайте отношение кредитных покупок к дебетовым (leverage) в разрезе категорий товаров и возрастной группы покупателя\n",
    "\n",
    "</div>"
   ]
  },
  {
   "cell_type": "code",
   "execution_count": null,
   "metadata": {},
   "outputs": [],
   "source": [
    "# YOUR CODE"
   ]
  }
 ],
 "metadata": {
  "kernelspec": {
   "display_name": "Python 3 (ipykernel)",
   "language": "python",
   "name": "python3"
  },
  "language_info": {
   "codemirror_mode": {
    "name": "ipython",
    "version": 3
   },
   "file_extension": ".py",
   "mimetype": "text/x-python",
   "name": "python",
   "nbconvert_exporter": "python",
   "pygments_lexer": "ipython3",
   "version": "3.9.7"
  }
 },
 "nbformat": 4,
 "nbformat_minor": 4
}
