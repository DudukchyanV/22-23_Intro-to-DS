{
 "cells": [
  {
   "cell_type": "markdown",
   "id": "251bfdb0",
   "metadata": {},
   "source": [
    "# Анализ данных в Python \n",
    "\n",
    "# Массивы NumPy\n",
    "\n",
    "\n",
    "*Автор: Алла Тамбовцева, НИУ ВШЭ*\n",
    "\n",
    "*Дополнения: Татьяна Рогович, Татьяна Перевышина, НИУ ВШЭ*"
   ]
  },
  {
   "cell_type": "markdown",
   "id": "8a0751c8",
   "metadata": {},
   "source": [
    "### Базовые операции с массивами\n",
    "\n",
    "Сегодня мы познакомимся с библиотекой NumPy (сокращение от Numeric Python), которая часто используется в задачах, связанных с машинным обучением.\n",
    "\n",
    "Чтобы мы смогли на конкретных примерах увидеть, зачем эта библиотека используется, давайте её импортируем. Если вы уже устанавливали Anaconda, то библиотека numpy также была установлена на ваш компьютер. Проверим: импортируем библиотеку с сокращённым названием, так часто делают, чтобы не «таскать» за собой в коде длинное название. Сокращение `np` для библиотеки `numpy` – распространённое, можно даже сказать, общепринятое, его часто можно увидеть в документации или официальных тьюториалах."
   ]
  },
  {
   "cell_type": "code",
   "execution_count": 40,
   "id": "98b18cc9",
   "metadata": {},
   "outputs": [],
   "source": [
    "import numpy as np"
   ]
  },
  {
   "cell_type": "markdown",
   "id": "73ff6a6f",
   "metadata": {},
   "source": [
    "**Массив** — упорядоченная изменяемая структура данных к элементам которого можно обратиться по индексу/ам\n",
    "\n",
    "Массив может:\n",
    "\n",
    "*   хранить неуникальные элементы\n",
    "*   хранить ТОЛЬКО элементы одного типа (`int`/`float`/`str`/`bool`)\n",
    "\n",
    "\n",
    "Сила типов данных:\n",
    "    `str > float > int > bool`\n",
    "\n",
    "Почему массив это удобно: \n",
    "\n",
    "* они занимают меньше места и памяти\n",
    "* все операции над массивами будут производиться поэлементно: то есть, для выполнения действий над каждым элементом массива, нам не придется использовать какие-то специальные конструкции вроде циклов, мы сможем обращаться сразу ко всему массиву\n",
    "* вычислительные операции быстрее выполняются с массивами numpy, чем со списками"
   ]
  },
  {
   "cell_type": "markdown",
   "id": "b50cc615",
   "metadata": {},
   "source": [
    "Основыным объектом `numpy` является Ndarray – это n-мерный массив (сокращение от *n-dimensional array*), структура данных, которая позволяет хранить набор элементов одного типа: либо только целые числа, либо числа с плавающей точкой, либо строки, либо булевы (логические) значения. Массивы могут быть одномерными, то есть визуально ничем не отличаться от простого списка значений:"
   ]
  },
  {
   "cell_type": "code",
   "execution_count": 46,
   "id": "e06d803d",
   "metadata": {},
   "outputs": [
    {
     "data": {
      "text/plain": [
       "array([0, 2, 3, 4])"
      ]
     },
     "execution_count": 46,
     "metadata": {},
     "output_type": "execute_result"
    }
   ],
   "source": [
    "np.array([0, 2, 3, 4])"
   ]
  },
  {
   "cell_type": "markdown",
   "id": "2ea68993",
   "metadata": {},
   "source": [
    "А могут быть многомерными (n-мерными), то есть представлять собой вложенный список («список списков»):"
   ]
  },
  {
   "cell_type": "code",
   "execution_count": 47,
   "id": "5136845c",
   "metadata": {},
   "outputs": [
    {
     "data": {
      "text/plain": [
       "array([[1, 2],\n",
       "       [1, 0]])"
      ]
     },
     "execution_count": 47,
     "metadata": {},
     "output_type": "execute_result"
    }
   ],
   "source": [
    "np.array([[1, 2], \n",
    "          [1, 0]])  # двумерный"
   ]
  },
  {
   "cell_type": "markdown",
   "id": "7b374a38",
   "metadata": {},
   "source": [
    "Мы чаще всего будем работать с двумерными массивами. Про двумерный массив можно думать как про матрицу или про таблицу. Так, массив во втором примере выше можно рассматривать как таблицу, состояшую из двух строк и трёх столбцов, как таблицу $2 \\times 3$ (сначала указывается число строк, затем – число столбцов). Отсюда следует важный факт: число элементов в списках внутри массива должно совпадать. Проверим на примере – возьмём списки разной длины, то есть списки, состоящие из разного числа элементов, и объединим их в массив:"
   ]
  },
  {
   "cell_type": "code",
   "execution_count": 48,
   "id": "33ec42c1",
   "metadata": {},
   "outputs": [
    {
     "name": "stderr",
     "output_type": "stream",
     "text": [
      "/var/folders/l5/wdnv8y_12csg_k3v_rvjb_dm0000gn/T/ipykernel_50910/3096246697.py:1: VisibleDeprecationWarning: Creating an ndarray from ragged nested sequences (which is a list-or-tuple of lists-or-tuples-or ndarrays with different lengths or shapes) is deprecated. If you meant to do this, you must specify 'dtype=object' when creating the ndarray.\n",
      "  np.array([[0, 0, 1],\n"
     ]
    },
    {
     "data": {
      "text/plain": [
       "array([list([0, 0, 1]), list([0, 1])], dtype=object)"
      ]
     },
     "execution_count": 48,
     "metadata": {},
     "output_type": "execute_result"
    }
   ],
   "source": [
    "np.array([[0, 0, 1],\n",
    "         [0, 1]]) "
   ]
  },
  {
   "cell_type": "markdown",
   "id": "bbb57803",
   "metadata": {},
   "source": [
    "Получилось что-то немного странное. Никакой ошибки Python не выдан, но воспринимать этот объект как полноценный массив он уже не будет: он будет считать, что в такой таблице у нас есть две строки и ноль столбцов!"
   ]
  },
  {
   "cell_type": "markdown",
   "id": "1fb52168",
   "metadata": {},
   "source": [
    "Теперь давайте посмотрим, что будет, если мы попробуем объединить в массив объекты разных типов, например, целые числа и числа с плавающей точкой:"
   ]
  },
  {
   "cell_type": "code",
   "execution_count": 49,
   "id": "329cc9a1",
   "metadata": {},
   "outputs": [
    {
     "data": {
      "text/plain": [
       "array([[5. , 8.2],\n",
       "       [1.2, 1. ]])"
      ]
     },
     "execution_count": 49,
     "metadata": {},
     "output_type": "execute_result"
    }
   ],
   "source": [
    "np.array([[5, 8.2], \n",
    "         [1.2, 1,]])"
   ]
  },
  {
   "cell_type": "markdown",
   "id": "f4bc5949",
   "metadata": {},
   "source": [
    "Все элементы были автоматически приведены к одному типу (тип *float* «сильнее» типа *integer*). Можете самостоятельно проверить, что будет, если мы «смешаем» в списке строковые и числовые значения."
   ]
  },
  {
   "cell_type": "markdown",
   "id": "3e3e8cf0",
   "metadata": {},
   "source": [
    "Давайте представим, что у нас есть массив со значениями явки на выборы в долях, а мы хотим получить результаты в процентах (домноженные на 100)."
   ]
  },
  {
   "cell_type": "code",
   "execution_count": 50,
   "id": "75d326b1",
   "metadata": {},
   "outputs": [
    {
     "data": {
      "text/plain": [
       "array([0.62, 0.43, 0.79, 0.56])"
      ]
     },
     "execution_count": 50,
     "metadata": {},
     "output_type": "execute_result"
    }
   ],
   "source": [
    "turnout = np.array([0.62, 0.43, 0.79, 0.56])\n",
    "turnout"
   ]
  },
  {
   "cell_type": "markdown",
   "id": "5fc7d7d2",
   "metadata": {},
   "source": [
    "Чтобы домножить каждое число в массиве на 100, нам достаточно домножить на 100 `turnout`:"
   ]
  },
  {
   "cell_type": "code",
   "execution_count": 51,
   "id": "a2a13842",
   "metadata": {},
   "outputs": [
    {
     "data": {
      "text/plain": [
       "array([62., 43., 79., 56.])"
      ]
     },
     "execution_count": 51,
     "metadata": {},
     "output_type": "execute_result"
    }
   ],
   "source": [
    "turnout * 100  # готово!"
   ]
  },
  {
   "cell_type": "markdown",
   "id": "547f95d4",
   "metadata": {},
   "source": [
    "Точно так же можем производить операции с несколькими массивами — действия будут выполняться поэлементно:"
   ]
  },
  {
   "cell_type": "code",
   "execution_count": 52,
   "id": "e189cf38",
   "metadata": {},
   "outputs": [
    {
     "data": {
      "text/plain": [
       "array([ 2, 11, 11])"
      ]
     },
     "execution_count": 52,
     "metadata": {},
     "output_type": "execute_result"
    }
   ],
   "source": [
    "A = np.array([2, 3, 5])\n",
    "B = np.array([0, 8, 6])\n",
    "\n",
    "A + B"
   ]
  },
  {
   "cell_type": "code",
   "execution_count": 53,
   "id": "d793695a",
   "metadata": {},
   "outputs": [
    {
     "data": {
      "text/plain": [
       "array([ 0, 24, 30])"
      ]
     },
     "execution_count": 53,
     "metadata": {},
     "output_type": "execute_result"
    }
   ],
   "source": [
    "A * B"
   ]
  },
  {
   "cell_type": "markdown",
   "id": "0f728b9a",
   "metadata": {},
   "source": [
    "Выполним сразу несколько действий — посчитаем явку на основе массивов с числом действительных и недействительных бюллетеней."
   ]
  },
  {
   "cell_type": "code",
   "execution_count": 58,
   "id": "2bde7b51",
   "metadata": {},
   "outputs": [
    {
     "data": {
      "text/plain": [
       "array([53.84615385, 77.77777778, 65.        , 50.        ])"
      ]
     },
     "execution_count": 58,
     "metadata": {},
     "output_type": "execute_result"
    }
   ],
   "source": [
    "valid = np.array([32, 45, 50, 44])\n",
    "invalid = np.array([3, 11, 2, 6])\n",
    "total = np.array([65, 72, 80, 100])\n",
    "\n",
    "(valid + invalid) / total * 100"
   ]
  },
  {
   "cell_type": "markdown",
   "id": "ca2b3917",
   "metadata": {},
   "source": [
    "### Характеристики массива\n"
   ]
  },
  {
   "cell_type": "markdown",
   "id": "a8d95c49",
   "metadata": {},
   "source": [
    "Теперь познакомимся с характеристиками самого массива. Создадим массив `M` и будем с ним работать."
   ]
  },
  {
   "cell_type": "code",
   "execution_count": 59,
   "id": "74ecd6ac",
   "metadata": {},
   "outputs": [
    {
     "data": {
      "text/plain": [
       "array([[2, 5],\n",
       "       [6, 8],\n",
       "       [1, 3]])"
      ]
     },
     "execution_count": 59,
     "metadata": {},
     "output_type": "execute_result"
    }
   ],
   "source": [
    "M = np.array([[2, 5], \n",
    "              [6, 8], \n",
    "              [1, 3]])\n",
    "M"
   ]
  },
  {
   "cell_type": "markdown",
   "id": "2b1b8993",
   "metadata": {},
   "source": [
    "Массивы бывают многомерными, значит, у массива есть число измерений. Давайте его найдём:"
   ]
  },
  {
   "cell_type": "code",
   "execution_count": 60,
   "id": "d0c83b80",
   "metadata": {},
   "outputs": [
    {
     "data": {
      "text/plain": [
       "2"
      ]
     },
     "execution_count": 60,
     "metadata": {},
     "output_type": "execute_result"
    }
   ],
   "source": [
    "M.ndim  # dimensions"
   ]
  },
  {
   "cell_type": "markdown",
   "id": "465c046d",
   "metadata": {},
   "source": [
    "Действительно, всего два измерения: чтобы указать на число 5 из этого массива, нам понадобятся всего две координаты – номер строки и номер столбца. Теперь посмотрим на форму или вид массива (*shape*):"
   ]
  },
  {
   "cell_type": "code",
   "execution_count": 61,
   "id": "c7c9f445",
   "metadata": {},
   "outputs": [
    {
     "data": {
      "text/plain": [
       "(3, 2)"
      ]
     },
     "execution_count": 61,
     "metadata": {},
     "output_type": "execute_result"
    }
   ],
   "source": [
    "M.shape  # 3 строки и 2 столбца, т.е. 3 списка по 2 элемента"
   ]
  },
  {
   "cell_type": "markdown",
   "id": "8dc4133f",
   "metadata": {},
   "source": [
    "Кроме того, можем найти общее число элементов в массиве, его длину, размер (*size*):"
   ]
  },
  {
   "cell_type": "code",
   "execution_count": 62,
   "id": "ad3b9898",
   "metadata": {},
   "outputs": [
    {
     "data": {
      "text/plain": [
       "6"
      ]
     },
     "execution_count": 62,
     "metadata": {},
     "output_type": "execute_result"
    }
   ],
   "source": [
    "M.size  # всего 6 элементов"
   ]
  },
  {
   "cell_type": "markdown",
   "id": "cf9758ca",
   "metadata": {},
   "source": [
    "Важное отличие numpy массива от списка - в нем можно хранить данные только одного типа. Если попытаться собрать данные одного типа в массив, то они будут приведены к самому \"сильному\" типу (к тому, в который могут быть преобразованы остальные без ошибки)."
   ]
  },
  {
   "cell_type": "code",
   "execution_count": 63,
   "id": "32b15a94",
   "metadata": {},
   "outputs": [
    {
     "data": {
      "text/plain": [
       "array(['cat', '2', 'True', '3.4'], dtype='<U32')"
      ]
     },
     "execution_count": 63,
     "metadata": {},
     "output_type": "execute_result"
    }
   ],
   "source": [
    "np.array(['cat', 2, True, 3.4]) # все стало строками"
   ]
  },
  {
   "cell_type": "code",
   "execution_count": 64,
   "id": "ac4c86c0",
   "metadata": {},
   "outputs": [
    {
     "data": {
      "text/plain": [
       "array([2. , 1. , 3.4])"
      ]
     },
     "execution_count": 64,
     "metadata": {},
     "output_type": "execute_result"
    }
   ],
   "source": [
    "np.array([2, True, 3.4]) # все стало вещественными числами"
   ]
  },
  {
   "cell_type": "markdown",
   "id": "07587bc3",
   "metadata": {},
   "source": [
    "Тип данных, хранящихся в массиве можно посмотреть с помощью аттрибута `dtype`"
   ]
  },
  {
   "cell_type": "code",
   "execution_count": 65,
   "id": "68dade76",
   "metadata": {},
   "outputs": [
    {
     "data": {
      "text/plain": [
       "dtype('int64')"
      ]
     },
     "execution_count": 65,
     "metadata": {},
     "output_type": "execute_result"
    }
   ],
   "source": [
    "M.dtype"
   ]
  },
  {
   "cell_type": "markdown",
   "id": "5ee0f211",
   "metadata": {},
   "source": [
    "В `numpy` имеются все питоновские типы, а также обёртки над этими типами, которые **используют реализацию типов на C**, например, `int8`, `int16`, `int32`, `int64` (подробнее о типах данных `numpy` можно прочитать [здесь](https://www.numpy.org/devdocs/user/basics.types.html)). За счёт того, что используются типы данных из C, numpy получает ускорение операций."
   ]
  },
  {
   "cell_type": "markdown",
   "id": "63a27794",
   "metadata": {},
   "source": [
    "### Работа с элементами массива"
   ]
  },
  {
   "cell_type": "markdown",
   "id": "5f01f383",
   "metadata": {},
   "source": [
    "Если нам нужно обратиться к элементам массива, то эта операция будет похожа на работу со вложенными списками:"
   ]
  },
  {
   "cell_type": "code",
   "execution_count": 66,
   "id": "8b31a721",
   "metadata": {},
   "outputs": [
    {
     "data": {
      "text/plain": [
       "array([[2, 5],\n",
       "       [6, 8],\n",
       "       [1, 3]])"
      ]
     },
     "execution_count": 66,
     "metadata": {},
     "output_type": "execute_result"
    }
   ],
   "source": [
    "M"
   ]
  },
  {
   "cell_type": "code",
   "execution_count": 67,
   "id": "61208b33",
   "metadata": {},
   "outputs": [
    {
     "data": {
      "text/plain": [
       "array([2, 5])"
      ]
     },
     "execution_count": 67,
     "metadata": {},
     "output_type": "execute_result"
    }
   ],
   "source": [
    "M[0]  # весь первый список в M"
   ]
  },
  {
   "cell_type": "code",
   "execution_count": 68,
   "id": "1b6520fc",
   "metadata": {},
   "outputs": [
    {
     "data": {
      "text/plain": [
       "5"
      ]
     },
     "execution_count": 68,
     "metadata": {},
     "output_type": "execute_result"
    }
   ],
   "source": [
    "M[0][1]  # второй элемент первого списка в M"
   ]
  },
  {
   "cell_type": "markdown",
   "id": "1303acf6",
   "metadata": {},
   "source": [
    "Или не совсем как со списками, без двойных скобок:"
   ]
  },
  {
   "cell_type": "code",
   "execution_count": 70,
   "id": "e927539a",
   "metadata": {},
   "outputs": [
    {
     "data": {
      "text/plain": [
       "5"
      ]
     },
     "execution_count": 70,
     "metadata": {},
     "output_type": "execute_result"
    }
   ],
   "source": [
    "M[0, 1]"
   ]
  },
  {
   "cell_type": "markdown",
   "id": "a571fe75",
   "metadata": {},
   "source": [
    "Ещё можно выбирать сразу несколько элементов массива. Для этого воспользуемся срезами (*slices*):"
   ]
  },
  {
   "cell_type": "code",
   "execution_count": 71,
   "id": "9e71abee",
   "metadata": {},
   "outputs": [
    {
     "data": {
      "text/plain": [
       "array([[2, 5],\n",
       "       [6, 8]])"
      ]
     },
     "execution_count": 71,
     "metadata": {},
     "output_type": "execute_result"
    }
   ],
   "source": [
    "M[0:2]  # с элемента с индексом 0 до элемента с индексом 1 включительно"
   ]
  },
  {
   "cell_type": "markdown",
   "id": "cfa93845",
   "metadata": {},
   "source": [
    "Обратите внимание: правый конец среза не включается."
   ]
  },
  {
   "cell_type": "markdown",
   "id": "feae1a7b",
   "metadata": {},
   "source": [
    "Концы среза можно опускать, если нас интересуют все элементы, начиная с некоторого элемента и до конца массива или начиная с первого элемента массива и до некоторого элемента (правый конец точно так же включаться не будет):"
   ]
  },
  {
   "cell_type": "code",
   "execution_count": 72,
   "id": "9f13e78a",
   "metadata": {},
   "outputs": [
    {
     "data": {
      "text/plain": [
       "array([[6, 8],\n",
       "       [1, 3]])"
      ]
     },
     "execution_count": 72,
     "metadata": {},
     "output_type": "execute_result"
    }
   ],
   "source": [
    "M[1:] # с элемента с индексом 1 до конца"
   ]
  },
  {
   "cell_type": "code",
   "execution_count": 73,
   "id": "31033930",
   "metadata": {},
   "outputs": [
    {
     "data": {
      "text/plain": [
       "array([[2, 5],\n",
       "       [6, 8]])"
      ]
     },
     "execution_count": 73,
     "metadata": {},
     "output_type": "execute_result"
    }
   ],
   "source": [
    "M[:2] # с начала массива до элемента с индексом 1 включительно"
   ]
  },
  {
   "cell_type": "markdown",
   "id": "3cb2e15c",
   "metadata": {},
   "source": [
    "Еще можно взять полный срез – выбрать все элементы массива:"
   ]
  },
  {
   "cell_type": "code",
   "execution_count": 75,
   "id": "4584d0e4",
   "metadata": {},
   "outputs": [
    {
     "data": {
      "text/plain": [
       "array([[2, 5],\n",
       "       [6, 8],\n",
       "       [1, 3]])"
      ]
     },
     "execution_count": 75,
     "metadata": {},
     "output_type": "execute_result"
    }
   ],
   "source": [
    "M[:] "
   ]
  },
  {
   "cell_type": "markdown",
   "id": "91ffe91d",
   "metadata": {},
   "source": [
    "Кроме того, при выборе элементов можно выставлять шаг. По умолчанию мы выбираем все элементы подряд, шаг равен 1, но это можно изменить:"
   ]
  },
  {
   "cell_type": "code",
   "execution_count": 76,
   "id": "d98c8441",
   "metadata": {},
   "outputs": [
    {
     "data": {
      "text/plain": [
       "array([[2, 5],\n",
       "       [1, 3]])"
      ]
     },
     "execution_count": 76,
     "metadata": {},
     "output_type": "execute_result"
    }
   ],
   "source": [
    "M[0:3:2]  # с нулевого по третий через 2"
   ]
  },
  {
   "cell_type": "markdown",
   "id": "74e66d01",
   "metadata": {},
   "source": [
    "Концы среза по-прежнему можно опускать:"
   ]
  },
  {
   "cell_type": "code",
   "execution_count": 77,
   "id": "1c6ef641",
   "metadata": {},
   "outputs": [
    {
     "data": {
      "text/plain": [
       "array([[2, 5],\n",
       "       [1, 3]])"
      ]
     },
     "execution_count": 77,
     "metadata": {},
     "output_type": "execute_result"
    }
   ],
   "source": [
    "M[0::2]"
   ]
  },
  {
   "cell_type": "markdown",
   "id": "05fde6ff",
   "metadata": {},
   "source": [
    "Или сделать более интересную вещь, взять отрицательный шаг и выбрать все элементы в обратном порядке, с конца:"
   ]
  },
  {
   "cell_type": "code",
   "execution_count": 78,
   "id": "dbf1b16f",
   "metadata": {},
   "outputs": [
    {
     "data": {
      "text/plain": [
       "array([[1, 3],\n",
       "       [6, 8],\n",
       "       [2, 5]])"
      ]
     },
     "execution_count": 78,
     "metadata": {},
     "output_type": "execute_result"
    }
   ],
   "source": [
    "M[::-1]"
   ]
  },
  {
   "cell_type": "markdown",
   "id": "9fa8429b",
   "metadata": {},
   "source": [
    "А самое ценное, что можно обращаться к элементам не только по рядам, но и по колонкам с помощью индексации через запятую"
   ]
  },
  {
   "cell_type": "code",
   "execution_count": 79,
   "id": "7078ddae",
   "metadata": {},
   "outputs": [
    {
     "data": {
      "text/plain": [
       "array([5, 8, 3])"
      ]
     },
     "execution_count": 79,
     "metadata": {},
     "output_type": "execute_result"
    }
   ],
   "source": [
    "M[:, 1] # только второй элемент из каждого ряда (:)"
   ]
  },
  {
   "cell_type": "code",
   "execution_count": 80,
   "id": "acbe2b1d",
   "metadata": {},
   "outputs": [
    {
     "data": {
      "text/plain": [
       "array([6, 1])"
      ]
     },
     "execution_count": 80,
     "metadata": {},
     "output_type": "execute_result"
    }
   ],
   "source": [
    "M[1:, 0] # первый элемент для каждого ряда, начиная со второго"
   ]
  },
  {
   "cell_type": "markdown",
   "id": "b5a52036",
   "metadata": {},
   "source": [
    "### Ещё про операции с массивами"
   ]
  },
  {
   "cell_type": "markdown",
   "id": "06e9e46b",
   "metadata": {},
   "source": [
    "Теперь посмотрим на другие операции с массивами. Создадим простой одномерный массив, содержащий оценки группы школьников:"
   ]
  },
  {
   "cell_type": "code",
   "execution_count": 81,
   "id": "73b9bf1e",
   "metadata": {},
   "outputs": [
    {
     "data": {
      "text/plain": [
       "array([5, 4, 3, 5, 5, 4, 3, 4])"
      ]
     },
     "execution_count": 81,
     "metadata": {},
     "output_type": "execute_result"
    }
   ],
   "source": [
    "marks = np.array([5, 4, 3, 5, 5, 4, 3, 4]) \n",
    "marks"
   ]
  },
  {
   "cell_type": "markdown",
   "id": "18b6e9f0",
   "metadata": {},
   "source": [
    "Найдем самую плохую, минимальную оценку:"
   ]
  },
  {
   "cell_type": "code",
   "execution_count": 82,
   "id": "c337d84d",
   "metadata": {},
   "outputs": [
    {
     "data": {
      "text/plain": [
       "3"
      ]
     },
     "execution_count": 82,
     "metadata": {},
     "output_type": "execute_result"
    }
   ],
   "source": [
    "marks.min()"
   ]
  },
  {
   "cell_type": "markdown",
   "id": "1d0efb49",
   "metadata": {},
   "source": [
    "А теперь самую высокую, максимальную:"
   ]
  },
  {
   "cell_type": "code",
   "execution_count": 83,
   "id": "ad674ebe",
   "metadata": {},
   "outputs": [
    {
     "data": {
      "text/plain": [
       "5"
      ]
     },
     "execution_count": 83,
     "metadata": {},
     "output_type": "execute_result"
    }
   ],
   "source": [
    "marks.max()"
   ]
  },
  {
   "cell_type": "markdown",
   "id": "53ffeb6a",
   "metadata": {},
   "source": [
    "И средний балл:"
   ]
  },
  {
   "cell_type": "code",
   "execution_count": 84,
   "id": "1448f3a2",
   "metadata": {},
   "outputs": [
    {
     "data": {
      "text/plain": [
       "4.125"
      ]
     },
     "execution_count": 84,
     "metadata": {},
     "output_type": "execute_result"
    }
   ],
   "source": [
    "marks.mean()"
   ]
  },
  {
   "cell_type": "markdown",
   "id": "2dde4dd6",
   "metadata": {},
   "source": [
    "Медиану мы так не найдём — нет метода `median()`, но зато есть такая функция:"
   ]
  },
  {
   "cell_type": "code",
   "execution_count": 86,
   "id": "715bb457",
   "metadata": {},
   "outputs": [
    {
     "data": {
      "text/plain": [
       "4.0"
      ]
     },
     "execution_count": 86,
     "metadata": {},
     "output_type": "execute_result"
    }
   ],
   "source": [
    "np.median(marks)"
   ]
  },
  {
   "cell_type": "markdown",
   "id": "62fb7482",
   "metadata": {},
   "source": [
    "А теперь найдем *номер* ученика с самой высокой оценкой:"
   ]
  },
  {
   "cell_type": "code",
   "execution_count": 87,
   "id": "d44adade",
   "metadata": {},
   "outputs": [
    {
     "data": {
      "text/plain": [
       "0"
      ]
     },
     "execution_count": 87,
     "metadata": {},
     "output_type": "execute_result"
    }
   ],
   "source": [
    "marks.argmax()"
   ]
  },
  {
   "cell_type": "markdown",
   "id": "eb2f7238",
   "metadata": {},
   "source": [
    "И номер ученика с самой низкой оценкой:"
   ]
  },
  {
   "cell_type": "code",
   "execution_count": 88,
   "id": "d11d292f",
   "metadata": {},
   "outputs": [
    {
     "data": {
      "text/plain": [
       "2"
      ]
     },
     "execution_count": 88,
     "metadata": {},
     "output_type": "execute_result"
    }
   ],
   "source": [
    "marks.argmin()"
   ]
  },
  {
   "cell_type": "markdown",
   "id": "302d0286",
   "metadata": {},
   "source": [
    "**Внимание:** если таких несколько, будет выведено первое совпадение, как для `argmin()`, так и для`argmax()`."
   ]
  },
  {
   "cell_type": "markdown",
   "id": "3ad38453",
   "metadata": {},
   "source": [
    "Конечно, мы не сможем сейчас рассмотреть все доступные методы, относящиеся к массивам (некоторые часто используемые методы мы еще будем обсуждать в следующем модуле), но при желании на перечень доступных методов можно посмотреть, набрав название массива, поставив точку и нажав на *Tab* (показать)."
   ]
  },
  {
   "cell_type": "markdown",
   "id": "79be13ac",
   "metadata": {},
   "source": [
    "Теперь посмотрим на многомерный массив, для удобства возьмём двумерный:"
   ]
  },
  {
   "cell_type": "code",
   "execution_count": 89,
   "id": "ea652687",
   "metadata": {},
   "outputs": [],
   "source": [
    "grades = np.array([[3, 5, 5, 4, 3], \n",
    "          [3, 3, 4, 3, 3], \n",
    "          [5, 5, 5, 4, 5]])"
   ]
  },
  {
   "cell_type": "markdown",
   "id": "13eb1552",
   "metadata": {},
   "source": [
    "Пусть это будут оценки трёх студентов 5 контрольных работ. Попробуем теперь найти средний балл за контрольные по каждому группе. Для этого необходимо указать, по какому измерению мы будем двигаться (грубо говоря, по строкам или столбцам):"
   ]
  },
  {
   "cell_type": "code",
   "execution_count": 90,
   "id": "795b086b",
   "metadata": {},
   "outputs": [
    {
     "data": {
      "text/plain": [
       "array([4. , 3.2, 4.8])"
      ]
     },
     "execution_count": 90,
     "metadata": {},
     "output_type": "execute_result"
    }
   ],
   "source": [
    "grades.mean(axis = 1) # по строкам, три оценки - одна для каждого студента"
   ]
  },
  {
   "cell_type": "markdown",
   "id": "2a157280",
   "metadata": {},
   "source": [
    "А теперь найдем средний балл по каждой контрольной работе:"
   ]
  },
  {
   "cell_type": "code",
   "execution_count": 91,
   "id": "49faf5f1",
   "metadata": {},
   "outputs": [
    {
     "data": {
      "text/plain": [
       "array([3.66666667, 4.33333333, 4.66666667, 3.66666667, 3.66666667])"
      ]
     },
     "execution_count": 91,
     "metadata": {},
     "output_type": "execute_result"
    }
   ],
   "source": [
    "grades.mean(axis = 0) # по столбцам, пять оценки - одна для каждой работы"
   ]
  },
  {
   "cell_type": "markdown",
   "id": "874fbf75",
   "metadata": {},
   "source": [
    "Таким же образом можно было посмотреть на минимальное и максимальное значение (можете потренироваться самостоятельно)."
   ]
  },
  {
   "cell_type": "markdown",
   "id": "049b934c",
   "metadata": {},
   "source": [
    "### Проверка условий на массивах\n",
    "\n",
    "Давайте посмотрим, каким образом можно проверять условия на массивах и отбирать элементы по условию. Создадим массив со значениями возраста:"
   ]
  },
  {
   "cell_type": "code",
   "execution_count": 92,
   "id": "04004147",
   "metadata": {},
   "outputs": [],
   "source": [
    "ages = np.array([[15, 23, 32, 45, 52], \n",
    "               [68, 34, 55, 78, 20], \n",
    "               [25, 67, 33, 45, 14]])"
   ]
  },
  {
   "cell_type": "markdown",
   "id": "6467a338",
   "metadata": {},
   "source": [
    "Давайте попробуем узнать, какие значения массива соответствуют людям трудоспособного возраста — от 16 лет и старше:"
   ]
  },
  {
   "cell_type": "code",
   "execution_count": 93,
   "id": "d84682b2",
   "metadata": {},
   "outputs": [
    {
     "data": {
      "text/plain": [
       "array([[False,  True,  True,  True,  True],\n",
       "       [ True,  True,  True,  True,  True],\n",
       "       [ True,  True,  True,  True, False]])"
      ]
     },
     "execution_count": 93,
     "metadata": {},
     "output_type": "execute_result"
    }
   ],
   "source": [
    "ages >= 16  # больше или равно"
   ]
  },
  {
   "cell_type": "markdown",
   "id": "a212f647",
   "metadata": {},
   "source": [
    "Все элементы, кроме первого в первом списке и кроме последнего в последнем списке: на всех позициях, кроме указанных, стоят значения `True`, что означает, что условие выполняется. То, что мы получили сейчас — это булев массив, массив, состоящий из булевых (логических) значений, значений `True` и `False`. \n",
    "\n",
    "Теперь попробуем сформулировать более сложное условие: проверим, какие элементы соответствуют людям старше 18, но младше 60 лет:"
   ]
  },
  {
   "cell_type": "code",
   "execution_count": 94,
   "id": "40b1d862",
   "metadata": {},
   "outputs": [
    {
     "data": {
      "text/plain": [
       "array([[False,  True,  True,  True,  True],\n",
       "       [False,  True,  True, False,  True],\n",
       "       [ True, False,  True,  True, False]])"
      ]
     },
     "execution_count": 94,
     "metadata": {},
     "output_type": "execute_result"
    }
   ],
   "source": [
    "(ages > 18) & (ages < 60) # & - одновременное условие"
   ]
  },
  {
   "cell_type": "markdown",
   "id": "15dc1d12",
   "metadata": {},
   "source": [
    "Как посчитать, сколько элементов массива удовлетворяют некоторым условиям?\n",
    "\n",
    "Суммируем значения по всему массиву: Python понимает, что значение `True` — это 1, а `False` — это 0, поэтому нет необходимости превращать все значения в числовые, мы можем просто сложить все «единички»:"
   ]
  },
  {
   "cell_type": "code",
   "execution_count": 95,
   "id": "a1f1745a",
   "metadata": {},
   "outputs": [
    {
     "data": {
      "text/plain": [
       "10"
      ]
     },
     "execution_count": 95,
     "metadata": {},
     "output_type": "execute_result"
    }
   ],
   "source": [
    "((ages > 18) & (ages < 60)).sum()"
   ]
  },
  {
   "cell_type": "markdown",
   "id": "98b568a2",
   "metadata": {},
   "source": [
    "А теперь проверим, какие значения соответствуют людям либо младше 18, либо старше 60:"
   ]
  },
  {
   "cell_type": "code",
   "execution_count": 96,
   "id": "74921b5b",
   "metadata": {},
   "outputs": [
    {
     "data": {
      "text/plain": [
       "array([[ True, False, False, False, False],\n",
       "       [ True, False, False,  True, False],\n",
       "       [False,  True, False, False,  True]])"
      ]
     },
     "execution_count": 96,
     "metadata": {},
     "output_type": "execute_result"
    }
   ],
   "source": [
    "(ages < 18) | (ages > 60)  # | - или - хотя бы одно условие верно"
   ]
  },
  {
   "cell_type": "markdown",
   "id": "57dd8828",
   "metadata": {},
   "source": [
    "А как увидеть сами значения, которые удовлетворяют определенным условиям? Заключить условие в квадратные скобочки:"
   ]
  },
  {
   "cell_type": "code",
   "execution_count": 97,
   "id": "fc8caa8f",
   "metadata": {},
   "outputs": [
    {
     "data": {
      "text/plain": [
       "array([23, 32, 45, 52, 68, 34, 55, 78, 20, 25, 67, 33, 45])"
      ]
     },
     "execution_count": 97,
     "metadata": {},
     "output_type": "execute_result"
    }
   ],
   "source": [
    "ages[ages >= 16]"
   ]
  },
  {
   "cell_type": "code",
   "execution_count": 98,
   "id": "bb26d58f",
   "metadata": {},
   "outputs": [
    {
     "data": {
      "text/plain": [
       "array([23, 32, 45, 52, 34, 55, 20, 25, 33, 45])"
      ]
     },
     "execution_count": 98,
     "metadata": {},
     "output_type": "execute_result"
    }
   ],
   "source": [
    "ages[(ages >= 16) & (ages < 60)]"
   ]
  },
  {
   "cell_type": "markdown",
   "id": "c78ac612",
   "metadata": {},
   "source": [
    "Внимание: не забудьте круглые скобки для каждого условия, иначе Python поймёт всё неправильно и вернёт ошибку:"
   ]
  },
  {
   "cell_type": "code",
   "execution_count": 99,
   "id": "480231df",
   "metadata": {},
   "outputs": [
    {
     "ename": "ValueError",
     "evalue": "The truth value of an array with more than one element is ambiguous. Use a.any() or a.all()",
     "output_type": "error",
     "traceback": [
      "\u001b[0;31m---------------------------------------------------------------------------\u001b[0m",
      "\u001b[0;31mValueError\u001b[0m                                Traceback (most recent call last)",
      "Input \u001b[0;32mIn [99]\u001b[0m, in \u001b[0;36m<cell line: 1>\u001b[0;34m()\u001b[0m\n\u001b[0;32m----> 1\u001b[0m ages[ages \u001b[38;5;241m>\u001b[39m\u001b[38;5;241m=\u001b[39m \u001b[38;5;241m16\u001b[39m \u001b[38;5;241m&\u001b[39m ages \u001b[38;5;241m<\u001b[39m \u001b[38;5;241m60\u001b[39m]\n",
      "\u001b[0;31mValueError\u001b[0m: The truth value of an array with more than one element is ambiguous. Use a.any() or a.all()"
     ]
    }
   ],
   "source": [
    "ages[ages >= 16 & ages < 60]"
   ]
  },
  {
   "cell_type": "markdown",
   "id": "a941aa90",
   "metadata": {},
   "source": [
    "### Дополнительно — произведение векторов\n",
    "\n",
    "#### Скалярное произведение векторов\n",
    "\n",
    "![](https://raw.githubusercontent.com/aaparshina/FCI_22-23_data_analysis/main/data/pics/s_01_01.png)"
   ]
  },
  {
   "cell_type": "code",
   "execution_count": 100,
   "id": "fb3fde8e",
   "metadata": {},
   "outputs": [
    {
     "name": "stdout",
     "output_type": "stream",
     "text": [
      "14\n"
     ]
    }
   ],
   "source": [
    "a = np.array([0, 1, 2])\n",
    "b = np.array([3, 4, 5])\n",
    "print(a @ b)    # python 3 style\n",
    "#print(a.dot(b)) \n",
    "#print(np.dot(a, b))"
   ]
  },
  {
   "cell_type": "markdown",
   "id": "4b7f97b2",
   "metadata": {},
   "source": [
    "#### Скалярное произведение матриц"
   ]
  },
  {
   "cell_type": "markdown",
   "id": "7623bd13",
   "metadata": {},
   "source": [
    "**Умножить можно только такие матрицы, в которых число столбцов первой матрицы равно числу строк второй**\n",
    "\n",
    "![](https://raw.githubusercontent.com/aaparshina/FCI_22-23_data_analysis/main/data/pics/s_01_02.png)"
   ]
  },
  {
   "cell_type": "code",
   "execution_count": 101,
   "id": "d6be5031",
   "metadata": {},
   "outputs": [
    {
     "name": "stdout",
     "output_type": "stream",
     "text": [
      "[[ 6  7]\n",
      " [26 31]]\n"
     ]
    }
   ],
   "source": [
    "a = np.array([[0, 1], [2, 3]])\n",
    "b = np.array([[4,5], [6, 7]])\n",
    "\n",
    "\n",
    "print(a @ b)\n",
    "#print(a.dot(b)) \n",
    "#print(np.dot(a, b))"
   ]
  },
  {
   "cell_type": "markdown",
   "id": "cedbd873",
   "metadata": {},
   "source": [
    "![](https://raw.githubusercontent.com/aaparshina/FCI_22-23_data_analysis/main/data/pics/s_01_03.png)"
   ]
  },
  {
   "cell_type": "code",
   "execution_count": 102,
   "id": "6783ab63",
   "metadata": {},
   "outputs": [
    {
     "ename": "ValueError",
     "evalue": "matmul: Input operand 1 has a mismatch in its core dimension 0, with gufunc signature (n?,k),(k,m?)->(n?,m?) (size 3 is different from 2)",
     "output_type": "error",
     "traceback": [
      "\u001b[0;31m---------------------------------------------------------------------------\u001b[0m",
      "\u001b[0;31mValueError\u001b[0m                                Traceback (most recent call last)",
      "Input \u001b[0;32mIn [102]\u001b[0m, in \u001b[0;36m<cell line: 3>\u001b[0;34m()\u001b[0m\n\u001b[1;32m      1\u001b[0m a \u001b[38;5;241m=\u001b[39m np\u001b[38;5;241m.\u001b[39marray([[\u001b[38;5;241m0\u001b[39m, \u001b[38;5;241m1\u001b[39m], [\u001b[38;5;241m2\u001b[39m, \u001b[38;5;241m3\u001b[39m]])\n\u001b[1;32m      2\u001b[0m b \u001b[38;5;241m=\u001b[39m np\u001b[38;5;241m.\u001b[39marray([[\u001b[38;5;241m4\u001b[39m,\u001b[38;5;241m5\u001b[39m], [\u001b[38;5;241m6\u001b[39m, \u001b[38;5;241m7\u001b[39m], [\u001b[38;5;241m8\u001b[39m, \u001b[38;5;241m9\u001b[39m]])\n\u001b[0;32m----> 3\u001b[0m \u001b[38;5;28mprint\u001b[39m(\u001b[43ma\u001b[49m\u001b[43m \u001b[49m\u001b[38;5;241;43m@\u001b[39;49m\u001b[43m \u001b[49m\u001b[43mb\u001b[49m)\n",
      "\u001b[0;31mValueError\u001b[0m: matmul: Input operand 1 has a mismatch in its core dimension 0, with gufunc signature (n?,k),(k,m?)->(n?,m?) (size 3 is different from 2)"
     ]
    }
   ],
   "source": [
    "a = np.array([[0, 1], [2, 3]])\n",
    "b = np.array([[4,5], [6, 7], [8, 9]])\n",
    "print(a @ b)"
   ]
  },
  {
   "cell_type": "markdown",
   "id": "976b756d",
   "metadata": {},
   "source": [
    "![](https://raw.githubusercontent.com/aaparshina/FCI_22-23_data_analysis/main/data/pics/s_01_04.png)"
   ]
  },
  {
   "cell_type": "code",
   "execution_count": 103,
   "id": "28d2caf1",
   "metadata": {},
   "outputs": [
    {
     "name": "stdout",
     "output_type": "stream",
     "text": [
      "[[ 7  8  9]\n",
      " [29 34 39]]\n"
     ]
    }
   ],
   "source": [
    "a = np.array([[0, 1], [2, 3]])\n",
    "b = np.array([[4,5,6], [7, 8, 9]])\n",
    "print(a @ b)"
   ]
  },
  {
   "cell_type": "markdown",
   "id": "7f30ef69",
   "metadata": {},
   "source": [
    "#### Скалярное произведение матрицы и векторов"
   ]
  },
  {
   "cell_type": "markdown",
   "id": "b66981c9",
   "metadata": {},
   "source": [
    "![](https://raw.githubusercontent.com/aaparshina/FCI_22-23_data_analysis/main/data/pics/s_01_05.png)"
   ]
  },
  {
   "cell_type": "code",
   "execution_count": 104,
   "id": "63f66db3",
   "metadata": {},
   "outputs": [
    {
     "name": "stdout",
     "output_type": "stream",
     "text": [
      "[ 5 23]\n"
     ]
    }
   ],
   "source": [
    "a = np.array([[0, 1], [2, 3]])\n",
    "b = np.array([4,5])\n",
    "print(a @ b)"
   ]
  },
  {
   "cell_type": "markdown",
   "id": "00732165",
   "metadata": {},
   "source": [
    "![](https://raw.githubusercontent.com/aaparshina/FCI_22-23_data_analysis/main/data/pics/s_01_06.png)"
   ]
  },
  {
   "cell_type": "code",
   "execution_count": 105,
   "id": "da6d2048",
   "metadata": {},
   "outputs": [
    {
     "name": "stdout",
     "output_type": "stream",
     "text": [
      "[[ 0  5]\n",
      " [12 21]]\n"
     ]
    }
   ],
   "source": [
    "a = np.array([[0, 1], [2, 3]])\n",
    "b = np.array([[4,5], [6, 7]])\n",
    "print(a * b)"
   ]
  }
 ],
 "metadata": {
  "kernelspec": {
   "display_name": "Python 3 (ipykernel)",
   "language": "python",
   "name": "python3"
  },
  "language_info": {
   "codemirror_mode": {
    "name": "ipython",
    "version": 3
   },
   "file_extension": ".py",
   "mimetype": "text/x-python",
   "name": "python",
   "nbconvert_exporter": "python",
   "pygments_lexer": "ipython3",
   "version": "3.9.7"
  }
 },
 "nbformat": 4,
 "nbformat_minor": 5
}
