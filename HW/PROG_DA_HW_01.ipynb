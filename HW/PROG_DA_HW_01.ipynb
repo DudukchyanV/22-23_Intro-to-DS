{
 "cells": [
  {
   "cell_type": "markdown",
   "metadata": {
    "id": "-xIaZlVXntNF"
   },
   "source": [
    "# Домашнее задание по Pandas и NumPy.\n",
    "\n",
    "Общие моменты:\n",
    "\n",
    "* Обязательно гуглите всю необходимую информацию. Вы можете использовать прочие (которые не упоминались на занятиях) методы и алгоритмы для решения задач, но при условии, что Вы сможете их объяснить. Если Вы нашли какой-то интересный способ решения, то нужно в комментарий добавить ссылку на источник.\n",
    "* Списывать/плагиатить строго запрещено. Можно использовать готовые решения из интернета только в случае, если Вы укажите ссылку на источник. И поясните, почему лучше так, а не каким-то стандартным (рекомендуемым) способом.\n",
    "* Желательно (но не обязательно) указывать комментарии в Вашем решении. Это и Вам поможет понять, что Вы делаете. И также это поможет преверяющему в случае вопросов.\n",
    "* Технологии типа ChatGPT не использовать. \n",
    "* В случае каких-то вопросов или спорных ситуаций (например, после получения результатов дз), обращайтесь к ассистенту/преподавателю. И лучше пишите какие-то комментарии к своему коду, чтобы спорных ситуаций было как можно меньше.\n",
    "* Сдавать ДЗ в SmartLMS!\n",
    "* Успехов!"
   ]
  },
  {
   "cell_type": "markdown",
   "metadata": {
    "id": "MJKl77fk9g7q"
   },
   "source": [
    "## Pandas"
   ]
  },
  {
   "cell_type": "markdown",
   "metadata": {
    "id": "z4EqdriA98qN"
   },
   "source": [
    "Представлены данные о продажах в супермаркете. Файл \"supermarket_sales.csv\".\n",
    "\n",
    "Вам требуется открыть файл и проанализировать в нём информацию.\n",
    "\n",
    "Ниже представлено более детальное описание данных в файле.\n",
    "\n",
    "* Invoice ID - идентификационный номер счёта-фактуры.\n",
    "* Branch - филиал/отделение супермаркета, доступно три отделения: A, B и C.\n",
    "* City - название города, где находится филиал/отделение супермаркета. Доступно три города: Yangon (Янгон), Mandalay (Мандалай) и Naypyitaw (Нейпьидо). Это всё Мьянма.\n",
    "* Customer type - тип клиента. Member, у кого имеется карта супермаркета, и Normal, у кого карты клиента нет.\n",
    "* Gender - пол клиента.\n",
    "* Product line - линейка продуктов/продуктовая линия. Группа товаров по категории.\n",
    "* Unit price - цена за единицу товара в долларах США.\n",
    "* Quantity - количество продуктов, купленных клиентом.\n",
    "* Tax 5% - наголовый сбор в размере 5% при покупке клиентом.\n",
    "* Total - общая стоимость, включая налог.\n",
    "* Date - дата покупки.\n",
    "* Time - время покупки.\n",
    "* Payment - способ оплаты клиента. Доступно: Ewallet (электронный кошелёк),  cash (наличный расчёт) и Credit card (кредитная карта).\n",
    "* cogs - стоимость проданных товаров. Тот же Total, но без учёта налог в 5%.\n",
    "* gross margin percentage - процент валовой прибыли.\n",
    "* gross income - налог.\n",
    "* Rating - рейтинг. Рейтинг стратификации клиентов по их общему опыту совершения покупок (по шкале от 1 до 10).\n",
    "\n",
    "\n",
    "\n"
   ]
  },
  {
   "cell_type": "code",
   "execution_count": 1,
   "metadata": {
    "executionInfo": {
     "elapsed": 1783,
     "status": "ok",
     "timestamp": 1681058486732,
     "user": {
      "displayName": "Sergey Korpachev",
      "userId": "09181340988160569540"
     },
     "user_tz": -180
    },
    "id": "cj1lLyzC9G-R"
   },
   "outputs": [],
   "source": [
    "import pandas as pd\n",
    "import numpy as np"
   ]
  },
  {
   "cell_type": "markdown",
   "metadata": {
    "id": "LjIjUYlCFOyT"
   },
   "source": [
    "**На слуйчай, если вы работаете в Google Colab**\n",
    "\n",
    "!!! Комментарий про следующие две ячейки !!!\n",
    "\n",
    "Чтобы считать файлы в pandas, требуется найти файл \"supermarket_sales.csv\", который Вы сохранили в Google Drive. Для этого требуется подключить здесь этот Drive. Чтобы уже дальше Вы могли перемещаться по каталогам.\n",
    "\n",
    "По умолчанию, Ваш файл (как и ipynb файл) может быть тут: \"/content/gdrive/My Drive/Colab Notebooks/\".\n",
    "Детальнее эту всю информацию можно уточнить у Вашего преподавателя или ассистента.\n",
    "\n",
    "Для тех, кто не использует Google Drive, общие рекомендации такие же. Следующие две ячейки можно не запускать, но требуется найти и прописать путь к файлу."
   ]
  },
  {
   "cell_type": "code",
   "execution_count": 2,
   "metadata": {
    "colab": {
     "base_uri": "https://localhost:8080/"
    },
    "executionInfo": {
     "elapsed": 18780,
     "status": "ok",
     "timestamp": 1681058505502,
     "user": {
      "displayName": "Sergey Korpachev",
      "userId": "09181340988160569540"
     },
     "user_tz": -180
    },
    "id": "C_dIj2dR9j-V",
    "outputId": "3fb79ebe-383f-4375-9615-b4fbf532e029"
   },
   "outputs": [
    {
     "name": "stdout",
     "output_type": "stream",
     "text": [
      "Mounted at /content/gdrive\n"
     ]
    }
   ],
   "source": [
    "from google.colab import drive\n",
    "drive.mount('/content/gdrive')"
   ]
  },
  {
   "cell_type": "code",
   "execution_count": 3,
   "metadata": {
    "colab": {
     "base_uri": "https://localhost:8080/"
    },
    "executionInfo": {
     "elapsed": 1391,
     "status": "ok",
     "timestamp": 1681058506888,
     "user": {
      "displayName": "Sergey Korpachev",
      "userId": "09181340988160569540"
     },
     "user_tz": -180
    },
    "id": "15JZcWo29kAj",
    "outputId": "c01a171b-1eb9-4a7a-c712-f599328a1aaf"
   },
   "outputs": [
    {
     "name": "stdout",
     "output_type": "stream",
     "text": [
      "/content/gdrive/My Drive/Colab Notebooks/hse/hw_pandas_numpy\n"
     ]
    }
   ],
   "source": [
    "cd /content/gdrive/My Drive/Colab Notebooks/hse/hw_pandas_numpy"
   ]
  },
  {
   "cell_type": "code",
   "execution_count": 4,
   "metadata": {
    "executionInfo": {
     "elapsed": 37,
     "status": "ok",
     "timestamp": 1681058506889,
     "user": {
      "displayName": "Sergey Korpachev",
      "userId": "09181340988160569540"
     },
     "user_tz": -180
    },
    "id": "GNpu4Re7lB7W"
   },
   "outputs": [],
   "source": [
    "# !!! Ваш путь к каталогу и файлу может отличаться. Не забудьте, пожалуйста, про это !!!"
   ]
  },
  {
   "cell_type": "markdown",
   "metadata": {
    "id": "_NAOMRkj5YZZ"
   },
   "source": [
    "Приступаем к домашнему заданию :)\n",
    "\n",
    "P.S. Ниже Вы увидите основные вопросы и дополнительные к ним. Отвечать нужно на основные вопросы. Где требуется писать код. Остальное (почему так, зачем, из-за чего и другие рассуждения) можете писать в виде комментариев на своё усмотрение."
   ]
  },
  {
   "cell_type": "markdown",
   "metadata": {
    "id": "REI_c655A_IJ"
   },
   "source": [
    "### Задание 1 (0.25 балла): открыть данные из файла.\n",
    "\n",
    "Комментарий: требуется просто открыть данные из файла 'supermarket_sales.csv'. Далее мы будем работать с этим через библиотеку pandas."
   ]
  },
  {
   "cell_type": "code",
   "execution_count": 5,
   "metadata": {
    "executionInfo": {
     "elapsed": 32,
     "status": "ok",
     "timestamp": 1681058506889,
     "user": {
      "displayName": "Sergey Korpachev",
      "userId": "09181340988160569540"
     },
     "user_tz": -180
    },
    "id": "sScumdUG9kCz"
   },
   "outputs": [],
   "source": [
    "# Ваш код и комментарии.\n",
    "\n"
   ]
  },
  {
   "cell_type": "markdown",
   "metadata": {
    "id": "CqIdLh9aAsfN"
   },
   "source": [
    "Посмотрите внимательно на данные, которые открылись.\n",
    "\n",
    "Что Вы там видите? Есть что-то интересное?\n",
    "\n",
    "Обязательно изучите Ваши данные.\n",
    "\n",
    "В анализе данных это очень и очень важно. Чтобы понимать, с чем и как работать."
   ]
  },
  {
   "cell_type": "markdown",
   "metadata": {
    "id": "6GjI0prbBWHP"
   },
   "source": [
    "### Задание 2 (0.75 балла): детальное изучение данных.\n",
    "\n",
    "Комментарий: требуется вывести следующие вещи, по которым мы сможем детальнее понять наши данные.\n",
    "\n",
    "* первые пять строчек нашего DataFrame.\n",
    "* последние пять строчек.\n",
    "* размерность (сколько признаков и сколько строчек мы имеем в данных).\n",
    "* названия нащих признаков.\n",
    "* типы данных наших признаков. То есть это целые числа, дробные, строчки или что ещё.\n",
    "* общую информацию про весь DataFrame.\n",
    "* общую статистическую информацию про наши данных (например, через describe)."
   ]
  },
  {
   "cell_type": "code",
   "execution_count": 6,
   "metadata": {
    "executionInfo": {
     "elapsed": 32,
     "status": "ok",
     "timestamp": 1681058506890,
     "user": {
      "displayName": "Sergey Korpachev",
      "userId": "09181340988160569540"
     },
     "user_tz": -180
    },
    "id": "Pt9yvFLg63xp"
   },
   "outputs": [],
   "source": [
    "# Ваш код и комментарии.\n",
    "# Выводим первые пять строчек наших данных.\n",
    "\n"
   ]
  },
  {
   "cell_type": "code",
   "execution_count": 7,
   "metadata": {
    "executionInfo": {
     "elapsed": 30,
     "status": "ok",
     "timestamp": 1681058506890,
     "user": {
      "displayName": "Sergey Korpachev",
      "userId": "09181340988160569540"
     },
     "user_tz": -180
    },
    "id": "8-AkkgGO6303"
   },
   "outputs": [],
   "source": [
    "# Ваш код и комментарии.\n",
    "# Выводим последние пять строчек наших данных.\n",
    "\n"
   ]
  },
  {
   "cell_type": "code",
   "execution_count": 8,
   "metadata": {
    "executionInfo": {
     "elapsed": 30,
     "status": "ok",
     "timestamp": 1681058506891,
     "user": {
      "displayName": "Sergey Korpachev",
      "userId": "09181340988160569540"
     },
     "user_tz": -180
    },
    "id": "lxi-S3rk7PZz"
   },
   "outputs": [],
   "source": [
    "# Ваш код и комментарии.\n",
    "# Выводим размерность наших данных.\n",
    "\n"
   ]
  },
  {
   "cell_type": "code",
   "execution_count": 9,
   "metadata": {
    "executionInfo": {
     "elapsed": 29,
     "status": "ok",
     "timestamp": 1681058506891,
     "user": {
      "displayName": "Sergey Korpachev",
      "userId": "09181340988160569540"
     },
     "user_tz": -180
    },
    "id": "QlC2bQUM7Pdd"
   },
   "outputs": [],
   "source": [
    "# Ваш код и комментарии.\n",
    "# Выводим название колонок/признаков/переменных.\n",
    "\n"
   ]
  },
  {
   "cell_type": "code",
   "execution_count": 10,
   "metadata": {
    "executionInfo": {
     "elapsed": 29,
     "status": "ok",
     "timestamp": 1681058506892,
     "user": {
      "displayName": "Sergey Korpachev",
      "userId": "09181340988160569540"
     },
     "user_tz": -180
    },
    "id": "nSNuE8Y07PjQ"
   },
   "outputs": [],
   "source": [
    "# Ваш код и комментарии.\n",
    "# Выводим тип данных по каждому признаку.\n",
    "\n"
   ]
  },
  {
   "cell_type": "code",
   "execution_count": 11,
   "metadata": {
    "executionInfo": {
     "elapsed": 29,
     "status": "ok",
     "timestamp": 1681058506892,
     "user": {
      "displayName": "Sergey Korpachev",
      "userId": "09181340988160569540"
     },
     "user_tz": -180
    },
    "id": "S9VrqoP1Fcni"
   },
   "outputs": [],
   "source": [
    "# Ваш код и комментарии.\n",
    "# Выводим общую информацию про наш DataFrame.\n",
    "\n"
   ]
  },
  {
   "cell_type": "code",
   "execution_count": 12,
   "metadata": {
    "executionInfo": {
     "elapsed": 29,
     "status": "ok",
     "timestamp": 1681058506893,
     "user": {
      "displayName": "Sergey Korpachev",
      "userId": "09181340988160569540"
     },
     "user_tz": -180
    },
    "id": "mtUgKCTE9kJZ"
   },
   "outputs": [],
   "source": [
    "# Ваш код и комментарии.\n",
    "# Выводим общую статистическую информацию по всем числовым признакам.\n",
    "\n"
   ]
  },
  {
   "cell_type": "markdown",
   "metadata": {
    "id": "J7hUNb9yBYdW"
   },
   "source": [
    "### Задание 3 (1 балл): перевести признак Date в единицы измерения времени.\n",
    "\n",
    "Комментарий: как Вы могли заметить в предпоследней ячейке, признак Date имеет размерность object. Это не совсем то, с чем мы хотим работать, когда говорим про даты и время. Поэтому требуется преобразовать данный признак (Date) в единицы измерения времени. Например, это можно сделать через to_datetime."
   ]
  },
  {
   "cell_type": "code",
   "execution_count": 13,
   "metadata": {
    "executionInfo": {
     "elapsed": 29,
     "status": "ok",
     "timestamp": 1681058506893,
     "user": {
      "displayName": "Sergey Korpachev",
      "userId": "09181340988160569540"
     },
     "user_tz": -180
    },
    "id": "ph0rMuRT9kQU"
   },
   "outputs": [],
   "source": [
    "# Ваш код и комментарии.\n",
    "\n"
   ]
  },
  {
   "cell_type": "markdown",
   "metadata": {
    "id": "f7bj2ZXvBbLW"
   },
   "source": [
    "### Задание 4 (1 балл): индексация по датам.\n",
    "\n",
    "Комментарий: хорошо бы сделать индексацию по признаку Date. То есть сделать так, чтобы вместо достаточно абстрактных индексов (номеров строк), у Вас были даты.\n",
    "\n",
    "Как Вы думаете, для чего это требуется? Насколько это необходимо? Можно ли это не делать? Можно ли сделать индексацию не по Date?"
   ]
  },
  {
   "cell_type": "code",
   "execution_count": 14,
   "metadata": {
    "executionInfo": {
     "elapsed": 27,
     "status": "ok",
     "timestamp": 1681058506894,
     "user": {
      "displayName": "Sergey Korpachev",
      "userId": "09181340988160569540"
     },
     "user_tz": -180
    },
    "id": "wdiLIvFO9kXm"
   },
   "outputs": [],
   "source": [
    "# Ваш код и комментарии.\n",
    "\n"
   ]
  },
  {
   "cell_type": "markdown",
   "metadata": {
    "id": "KT4DASqcBdJa"
   },
   "source": [
    "### Задание 5 (1 балл): проверка на пропущенные значения.\n",
    "\n",
    "Комментарий: проверить, есть ли пропущенные значения (NaN) в нашем DataFrame.\n",
    "\n",
    "Вариантов проверки может быть несколько. Так что подойдёт любой стандартный способ."
   ]
  },
  {
   "cell_type": "code",
   "execution_count": 15,
   "metadata": {
    "executionInfo": {
     "elapsed": 25,
     "status": "ok",
     "timestamp": 1681058506894,
     "user": {
      "displayName": "Sergey Korpachev",
      "userId": "09181340988160569540"
     },
     "user_tz": -180
    },
    "id": "INFF0cxK9ke_"
   },
   "outputs": [],
   "source": [
    "# Ваш код и комментарии.\n",
    "\n"
   ]
  },
  {
   "cell_type": "markdown",
   "metadata": {
    "id": "NneYJxdpBi25"
   },
   "source": [
    "### Задание 6 (1 балл): убрать пропущенные значения из данных. На примере признака Unit price.\n",
    "\n",
    "Комментарий: на основе полученной информации из предыдущего пункта, нужно убрать пустые значения (они есть или нет?) в наших данных. Для признака Unit price. Как это можно сделать?\n",
    "\n",
    "В какое случае можно удалить строчки с пустыми значениями, а в каком случае не стоит этого делать? Если нет убирать пустые значения, то что с ними делать? На что их заменить? Есть какие-то идеи?\n",
    "\n",
    "И не забудьте в конце снова проверить на пустые значения. Чтобы точно убедиться, что всё хорошо."
   ]
  },
  {
   "cell_type": "code",
   "execution_count": 16,
   "metadata": {
    "executionInfo": {
     "elapsed": 23,
     "status": "ok",
     "timestamp": 1681058506894,
     "user": {
      "displayName": "Sergey Korpachev",
      "userId": "09181340988160569540"
     },
     "user_tz": -180
    },
    "id": "qYqNhAd89kma"
   },
   "outputs": [],
   "source": [
    "# Ваш код и комментарии.\n",
    "\n"
   ]
  },
  {
   "cell_type": "code",
   "execution_count": 17,
   "metadata": {
    "executionInfo": {
     "elapsed": 23,
     "status": "ok",
     "timestamp": 1681058506895,
     "user": {
      "displayName": "Sergey Korpachev",
      "userId": "09181340988160569540"
     },
     "user_tz": -180
    },
    "id": "S-S4qPrF6UdU"
   },
   "outputs": [],
   "source": [
    "# Ваш код и комментарии.\n",
    "# Не забудьте снова проверить на пустые значения. На всякий случай :)\n",
    "\n"
   ]
  },
  {
   "cell_type": "markdown",
   "metadata": {
    "id": "X7FFoZHE0NUU"
   },
   "source": [
    "Общий комментарий: в предыдущем пункты Вы изучали то, как можно работать с пустыми значениями. Но как быть с выбросами/аномалиями в данных?\n",
    "\n",
    "Что это такое, Вы знаете? Как их найти/определить? В данном домашнем задании это не требуется, но в общем случае бывает крайне эффективно поработать и с этим тоже.\n",
    "\n",
    "Как найти возможные выбросы/аномалии? Если они есть, то что с ними делать?"
   ]
  },
  {
   "cell_type": "markdown",
   "metadata": {
    "id": "QQ2_-MJ7BkNf"
   },
   "source": [
    "### Задание 7 (1 балл): придумать новый признак (колонку) для наших данных.\n",
    "\n",
    "Комментарий: Вы видите, что у нас около 20 признаков, по которым описываются данные. Но ведь никто не запрещает придумать (более-менее осознанно) новый признак или признаки. Есть какие-то идеи? И не забудьте, пожалуйста, добавить новый признак в наш DataFrame, когда Вы его придумаете. Только действуйте осторожно, чтобы данные не сломать :) \n",
    "\n",
    "Если с придумыванием нового признака возникают некоторые сложности (такое бывает, так как изучение данных требует времени и определённых знаний/умений), то попробуйте добавить \"любой\" признак. Просто чтобы понимать, что это сделать можно. А будет ли этот признак осмысленным или нет - это уже другой вопрос :)\n",
    "\n",
    "Например, у Вас есть цена за единицу товара. Или прочий числовой признак. Вы всегда можете взять этот признак (все его строчки подразумевается) и возвести в квадрат. Зачем? Просто чтобы понимать, что так можно сделать.\n",
    "\n",
    "!!! Но в идеале очень хотелось бы найти/получить какой-то более качественный (если Вы знаете как) признак. !!!\n",
    "\n",
    "И не забудьте в самом конце добавить Ваш новый признак в DataFrame. Как добавить признак/колонку/переменную в данные pandas? Сколько может быть/будет строчек/значений в новой колонке?\n",
    "\n",
    "И самое главное. Вы добавили какой-то новый признак в данные. Предположим, что он осмысленный. Почему именно такой? Почему не другой? Как Вы думаете?"
   ]
  },
  {
   "cell_type": "code",
   "execution_count": 18,
   "metadata": {
    "executionInfo": {
     "elapsed": 22,
     "status": "ok",
     "timestamp": 1681058506895,
     "user": {
      "displayName": "Sergey Korpachev",
      "userId": "09181340988160569540"
     },
     "user_tz": -180
    },
    "id": "Sa9Sm3xD9kuF"
   },
   "outputs": [],
   "source": [
    "# Ваш код и комментарии.\n",
    "# Создаём новый признак.\n",
    "\n"
   ]
  },
  {
   "cell_type": "code",
   "execution_count": 19,
   "metadata": {
    "executionInfo": {
     "elapsed": 22,
     "status": "ok",
     "timestamp": 1681058506895,
     "user": {
      "displayName": "Sergey Korpachev",
      "userId": "09181340988160569540"
     },
     "user_tz": -180
    },
    "id": "NEt-5EhtkncH"
   },
   "outputs": [],
   "source": [
    "# Ваш код и комментарии.\n",
    "# Добавляем новый признак в наш DataFrame.\n",
    "\n"
   ]
  },
  {
   "cell_type": "code",
   "execution_count": 20,
   "metadata": {
    "executionInfo": {
     "elapsed": 22,
     "status": "ok",
     "timestamp": 1681058506896,
     "user": {
      "displayName": "Sergey Korpachev",
      "userId": "09181340988160569540"
     },
     "user_tz": -180
    },
    "id": "xLUOMoJukt_e"
   },
   "outputs": [],
   "source": [
    "# Ваш код и комментарии.\n",
    "# Выводим список признаков в DataFrame, чтобы убедиться, что всё успешно добавилось.\n",
    "# Новый признак добавился в список признаков/колонок/переменных?\n",
    "\n"
   ]
  },
  {
   "cell_type": "markdown",
   "metadata": {
    "id": "rBSpHJbeJGq0"
   },
   "source": [
    "### Задание 8 (1 балл): фильтрация наших данных.\n",
    "\n",
    "Комментарий: тут всё просто. Есть данные. Давайте придумаем какой-нибудь фильтр для тренировки знаний. Например следующее.\n",
    "\n",
    "Вывести количество строчек, в которых упоминается город Yangon (Янгон) и оплата через Ewallet (электронный кошелёк). То есть узнать, сколько раз в городе Yangon (Янгон) была оплата по Ewallet (электронный кошелёк)."
   ]
  },
  {
   "cell_type": "code",
   "execution_count": 21,
   "metadata": {
    "executionInfo": {
     "elapsed": 21,
     "status": "ok",
     "timestamp": 1681058506896,
     "user": {
      "displayName": "Sergey Korpachev",
      "userId": "09181340988160569540"
     },
     "user_tz": -180
    },
    "id": "sQhHbholJG1x"
   },
   "outputs": [],
   "source": [
    "# Ваш код и комментарии.\n",
    "\n"
   ]
  },
  {
   "cell_type": "markdown",
   "metadata": {
    "id": "TDKFrsGE9luq"
   },
   "source": [
    "## NumPy"
   ]
  },
  {
   "cell_type": "markdown",
   "metadata": {
    "id": "cHr4Bn7xBneG"
   },
   "source": [
    "Ниже представлено несколько задач по NumPy."
   ]
  },
  {
   "cell_type": "markdown",
   "metadata": {
    "id": "UVXO1hNqBwq2"
   },
   "source": [
    "### Задание 9 (0.25 балла): создать нулевой вектор размерность 10.\n",
    "\n",
    "Комментарий: требуется создать NumPy вектор, в котором 10 элементов. И каждый этот элемент вектора равен нулю. Нужно это сделать именно автоматически, а не вручную прописывать десять нулей.\n",
    "\n",
    "Вы же не будете делать всё вручную, если размерность вектора тысяча или больше :) Так что предпочтительнее создать вектор автоматически."
   ]
  },
  {
   "cell_type": "code",
   "execution_count": 22,
   "metadata": {
    "executionInfo": {
     "elapsed": 20,
     "status": "ok",
     "timestamp": 1681058506896,
     "user": {
      "displayName": "Sergey Korpachev",
      "userId": "09181340988160569540"
     },
     "user_tz": -180
    },
    "id": "Jh_2-WAX9msc"
   },
   "outputs": [],
   "source": [
    "# Ваш код и комментарии.\n",
    "\n"
   ]
  },
  {
   "cell_type": "markdown",
   "metadata": {
    "id": "VsKu_9JvCDil"
   },
   "source": [
    "### Задание 10 (0.25 балла): создать матрицу 3x3 со значениями в диапазоне от 0 до 8.\n",
    "\n",
    "Комментарий: на выходе должна быть матрица, в которой 9 элементов: от 0 до 8, 8 включаем. Делать данную задачу также автоматически, без прописывания вручную элементов.\n",
    "\n",
    "К примеру, можно создать NumPy объект из 9 элементов. А дальше его преобразовать в матрицу 3 на 3."
   ]
  },
  {
   "cell_type": "code",
   "execution_count": 23,
   "metadata": {
    "executionInfo": {
     "elapsed": 21,
     "status": "ok",
     "timestamp": 1681058506897,
     "user": {
      "displayName": "Sergey Korpachev",
      "userId": "09181340988160569540"
     },
     "user_tz": -180
    },
    "id": "x-OLx77L9nLy"
   },
   "outputs": [],
   "source": [
    "# Ваш код и комментарии.\n",
    "\n"
   ]
  },
  {
   "cell_type": "markdown",
   "metadata": {
    "id": "I5RhOHzHCGUF"
   },
   "source": [
    "### Задание 11 (0.5 балла): создать матрица 10x10 со случайными значениями и найти минимальный и максимальный элементы.\n",
    "\n",
    "Точно такие же комментарии. Создаётся объект 10 на 10. И в нём ищётся то, что нужно. Тоже автоматический поиск.\n"
   ]
  },
  {
   "cell_type": "code",
   "execution_count": 24,
   "metadata": {
    "executionInfo": {
     "elapsed": 20,
     "status": "ok",
     "timestamp": 1681058506897,
     "user": {
      "displayName": "Sergey Korpachev",
      "userId": "09181340988160569540"
     },
     "user_tz": -180
    },
    "id": "h7CcwNE59nS2"
   },
   "outputs": [],
   "source": [
    "# Ваш код и комментарии.\n",
    "\n"
   ]
  },
  {
   "cell_type": "markdown",
   "metadata": {
    "id": "L2_kWLQFCIzE"
   },
   "source": [
    "### Задание 12 (1 балл): создать матрицу 10x10, в которой все значения нули, кроме границ. Граничные элементы пускай будут равны единицам.\n",
    "\n",
    "Комментарий: вспомните про работу со срезами (slice) в Python. Это тут поможет.\n",
    "\n",
    "Пример: дана матрица 3 на 3, в которой в центре один нулевой элемент, а граница состоит из единиц. Нужно сделать тоже самое, но только в случае матрицы 10 на 10. Всё автоматически."
   ]
  },
  {
   "cell_type": "code",
   "execution_count": 25,
   "metadata": {
    "executionInfo": {
     "elapsed": 20,
     "status": "ok",
     "timestamp": 1681058506897,
     "user": {
      "displayName": "Sergey Korpachev",
      "userId": "09181340988160569540"
     },
     "user_tz": -180
    },
    "id": "PIGWv7KK9naM"
   },
   "outputs": [],
   "source": [
    "# Ваш код и комментарии.\n",
    "\n"
   ]
  },
  {
   "cell_type": "markdown",
   "metadata": {
    "id": "jsTlGKYmCLqM"
   },
   "source": [
    "### Задание 13 (0.5 балла): поменять местами две строчки матрицы.\n",
    "\n",
    "Комментарий: тут всё просто, из задания понятно. Сделать всё автоматически. \n",
    "\n",
    "Попробуйте вспомнить, как поменять местами значения двух каких-то переменных в Python."
   ]
  },
  {
   "cell_type": "code",
   "execution_count": 26,
   "metadata": {
    "executionInfo": {
     "elapsed": 20,
     "status": "ok",
     "timestamp": 1681058506898,
     "user": {
      "displayName": "Sergey Korpachev",
      "userId": "09181340988160569540"
     },
     "user_tz": -180
    },
    "id": "Bm04pIsQ9nhN"
   },
   "outputs": [],
   "source": [
    "# Ваш код и комментарии.\n",
    "\n"
   ]
  },
  {
   "cell_type": "markdown",
   "metadata": {
    "id": "ewq4eqFQCOwu"
   },
   "source": [
    "### Задание 14 (0.25 балла): создать массив из 50 элементов (заполнить случайными целыми числами от 0 до 10, 10 не включаем) и для него найти среднее, стандартное отклонение и медиану.\n",
    "\n",
    "Комментарий: особых комментариев нет. Нужно сделать также всё автоматически."
   ]
  },
  {
   "cell_type": "code",
   "execution_count": 27,
   "metadata": {
    "executionInfo": {
     "elapsed": 20,
     "status": "ok",
     "timestamp": 1681058506898,
     "user": {
      "displayName": "Sergey Korpachev",
      "userId": "09181340988160569540"
     },
     "user_tz": -180
    },
    "id": "CSnjN9xr9noH"
   },
   "outputs": [],
   "source": [
    "# Ваш код и комментарии.\n",
    "\n"
   ]
  },
  {
   "cell_type": "markdown",
   "metadata": {
    "id": "sDpBTmL1uxRu"
   },
   "source": [
    "### Задание 15 (0.25 балла): посчитать определитель матрицы 5x5.\n",
    "\n",
    "Комментарий: допустим, что Вы нашли решение для случая матриц 2x2 или 3x3. Тот же самый алгоритм применить и для матрицы 5x5. То есть не нужно сразу делать для 5x5. А то вдруг сделаете, посчитаете, а окажется, что всё неправильно. Поэтому сначала нужно сделать проверку. И этой проверкой будет отработка на матрицах более низкой размерности. И да, хорошо бы вспомнить, как считать определитель матрицы.\n",
    "\n",
    "Также всё автоматически.\n",
    "\n",
    "Матрица может быть любая на Ваш выбор. К примеру, заполненная случайными целыми числами от 0 до 10, 10 не включаем. Для простоты такую можно взять."
   ]
  },
  {
   "cell_type": "code",
   "execution_count": 28,
   "metadata": {
    "executionInfo": {
     "elapsed": 18,
     "status": "ok",
     "timestamp": 1681058506898,
     "user": {
      "displayName": "Sergey Korpachev",
      "userId": "09181340988160569540"
     },
     "user_tz": -180
    },
    "id": "MatN90e69nvE"
   },
   "outputs": [],
   "source": [
    "# Ваш код и комментарии.\n",
    "\n"
   ]
  }
 ],
 "metadata": {
  "colab": {
   "authorship_tag": "ABX9TyPXUg3QOMW7SHKjLom5H1Xb",
   "provenance": []
  },
  "kernelspec": {
   "display_name": "Python 3 (ipykernel)",
   "language": "python",
   "name": "python3"
  },
  "language_info": {
   "codemirror_mode": {
    "name": "ipython",
    "version": 3
   },
   "file_extension": ".py",
   "mimetype": "text/x-python",
   "name": "python",
   "nbconvert_exporter": "python",
   "pygments_lexer": "ipython3",
   "version": "3.9.7"
  }
 },
 "nbformat": 4,
 "nbformat_minor": 1
}
